{
 "cells": [
  {
   "metadata": {
    "ExecuteTime": {
     "end_time": "2024-11-06T04:11:24.589659Z",
     "start_time": "2024-11-06T04:11:24.340485Z"
    }
   },
   "cell_type": "code",
   "source": "import matplotlib.pyplot as plt",
   "id": "3993a0cb19275561",
   "outputs": [],
   "execution_count": 1
  },
  {
   "cell_type": "code",
   "id": "initial_id",
   "metadata": {
    "collapsed": true,
    "ExecuteTime": {
     "end_time": "2024-11-06T04:11:26.048701Z",
     "start_time": "2024-11-06T04:11:24.594834Z"
    }
   },
   "source": [
    "from pyspark.sql import SparkSession\n",
    "from pyspark.sql.functions import col, regexp_replace, format_number\n",
    "\n",
    "spark = SparkSession.builder \\\n",
    "    .appName(\"PySparkClusterPOC\") \\\n",
    "    .master(\"local\") \\\n",
    "    .config(\"spark.executor.memory\", \"16g\") \\\n",
    "    .config(\"spark.executor.cores\", \"4\") \\\n",
    "    .config(\"spark.driver.memory\", \"16g\") \\\n",
    "    .getOrCreate()\n",
    "\n"
   ],
   "outputs": [
    {
     "name": "stderr",
     "output_type": "stream",
     "text": [
      "24/11/06 01:11:25 WARN Utils: Your hostname, MacBook-Pro.local resolves to a loopback address: 127.0.0.1; using 192.168.0.135 instead (on interface en0)\n",
      "24/11/06 01:11:25 WARN Utils: Set SPARK_LOCAL_IP if you need to bind to another address\n",
      "Setting default log level to \"WARN\".\n",
      "To adjust logging level use sc.setLogLevel(newLevel). For SparkR, use setLogLevel(newLevel).\n",
      "24/11/06 01:11:25 WARN NativeCodeLoader: Unable to load native-hadoop library for your platform... using builtin-java classes where applicable\n",
      "24/11/06 01:11:25 WARN Utils: Service 'SparkUI' could not bind on port 4040. Attempting port 4041.\n"
     ]
    }
   ],
   "execution_count": 2
  },
  {
   "metadata": {
    "ExecuteTime": {
     "end_time": "2024-11-06T04:13:57.428256Z",
     "start_time": "2024-11-06T04:13:54.133506Z"
    }
   },
   "cell_type": "code",
   "source": [
    "parquet_dir = \"datasets/boletins_urna_2022\"\n",
    "df = spark.read.parquet(parquet_dir)\n",
    "\n",
    "# Show the schema and a few rows of the DataFrame\n",
    "df.printSchema()\n",
    "df.show(5)"
   ],
   "id": "74357235462bada5",
   "outputs": [
    {
     "name": "stdout",
     "output_type": "stream",
     "text": [
      "root\n",
      " |-- DT_GERACAO: string (nullable = true)\n",
      " |-- HH_GERACAO: string (nullable = true)\n",
      " |-- ANO_ELEICAO: long (nullable = true)\n",
      " |-- CD_TIPO_ELEICAO: long (nullable = true)\n",
      " |-- NM_TIPO_ELEICAO: string (nullable = true)\n",
      " |-- CD_PLEITO: long (nullable = true)\n",
      " |-- DT_PLEITO: string (nullable = true)\n",
      " |-- NR_TURNO: long (nullable = true)\n",
      " |-- CD_ELEICAO: long (nullable = true)\n",
      " |-- DS_ELEICAO: string (nullable = true)\n",
      " |-- SG_UF: string (nullable = true)\n",
      " |-- CD_MUNICIPIO: long (nullable = true)\n",
      " |-- NM_MUNICIPIO: string (nullable = true)\n",
      " |-- NR_ZONA: long (nullable = true)\n",
      " |-- NR_SECAO: long (nullable = true)\n",
      " |-- NR_LOCAL_VOTACAO: long (nullable = true)\n",
      " |-- CD_CARGO_PERGUNTA: long (nullable = true)\n",
      " |-- DS_CARGO_PERGUNTA: string (nullable = true)\n",
      " |-- NR_PARTIDO: long (nullable = true)\n",
      " |-- SG_PARTIDO: string (nullable = true)\n",
      " |-- NM_PARTIDO: string (nullable = true)\n",
      " |-- DT_BU_RECEBIDO: string (nullable = true)\n",
      " |-- QT_APTOS: long (nullable = true)\n",
      " |-- QT_COMPARECIMENTO: long (nullable = true)\n",
      " |-- QT_ABSTENCOES: long (nullable = true)\n",
      " |-- CD_TIPO_URNA: long (nullable = true)\n",
      " |-- DS_TIPO_URNA: string (nullable = true)\n",
      " |-- CD_TIPO_VOTAVEL: long (nullable = true)\n",
      " |-- DS_TIPO_VOTAVEL: string (nullable = true)\n",
      " |-- NR_VOTAVEL: long (nullable = true)\n",
      " |-- NM_VOTAVEL: string (nullable = true)\n",
      " |-- QT_VOTOS: long (nullable = true)\n",
      " |-- NR_URNA_EFETIVADA: long (nullable = true)\n",
      " |-- CD_CARGA_1_URNA_EFETIVADA: string (nullable = true)\n",
      " |-- CD_CARGA_2_URNA_EFETIVADA: double (nullable = true)\n",
      " |-- CD_FLASHCARD_URNA_EFETIVADA: string (nullable = true)\n",
      " |-- DT_CARGA_URNA_EFETIVADA: string (nullable = true)\n",
      " |-- DS_CARGO_PERGUNTA_SECAO: string (nullable = true)\n",
      " |-- DS_AGREGADAS: string (nullable = true)\n",
      " |-- DT_ABERTURA: string (nullable = true)\n",
      " |-- DT_ENCERRAMENTO: string (nullable = true)\n",
      " |-- QT_ELEITORES_BIOMETRIA_NH: long (nullable = true)\n",
      " |-- DT_EMISSAO_BU: string (nullable = true)\n",
      " |-- NR_JUNTA_APURADORA: long (nullable = true)\n",
      " |-- NR_TURMA_APURADORA: long (nullable = true)\n",
      "\n"
     ]
    },
    {
     "name": "stderr",
     "output_type": "stream",
     "text": [
      "[Stage 74:==============>                                           (1 + 1) / 4]\r"
     ]
    },
    {
     "name": "stdout",
     "output_type": "stream",
     "text": [
      "+----------+----------+-----------+---------------+-----------------+---------+----------+--------+----------+--------------------+-----+------------+--------------+-------+--------+----------------+-----------------+-----------------+----------+----------+--------------------+-------------------+--------+-----------------+-------------+------------+------------+---------------+---------------+----------+--------------+--------+-----------------+-------------------------+-------------------------+---------------------------+-----------------------+-----------------------+------------+-------------------+-------------------+-------------------------+-------------------+------------------+------------------+\n",
      "|DT_GERACAO|HH_GERACAO|ANO_ELEICAO|CD_TIPO_ELEICAO|  NM_TIPO_ELEICAO|CD_PLEITO| DT_PLEITO|NR_TURNO|CD_ELEICAO|          DS_ELEICAO|SG_UF|CD_MUNICIPIO|  NM_MUNICIPIO|NR_ZONA|NR_SECAO|NR_LOCAL_VOTACAO|CD_CARGO_PERGUNTA|DS_CARGO_PERGUNTA|NR_PARTIDO|SG_PARTIDO|          NM_PARTIDO|     DT_BU_RECEBIDO|QT_APTOS|QT_COMPARECIMENTO|QT_ABSTENCOES|CD_TIPO_URNA|DS_TIPO_URNA|CD_TIPO_VOTAVEL|DS_TIPO_VOTAVEL|NR_VOTAVEL|    NM_VOTAVEL|QT_VOTOS|NR_URNA_EFETIVADA|CD_CARGA_1_URNA_EFETIVADA|CD_CARGA_2_URNA_EFETIVADA|CD_FLASHCARD_URNA_EFETIVADA|DT_CARGA_URNA_EFETIVADA|DS_CARGO_PERGUNTA_SECAO|DS_AGREGADAS|        DT_ABERTURA|    DT_ENCERRAMENTO|QT_ELEITORES_BIOMETRIA_NH|      DT_EMISSAO_BU|NR_JUNTA_APURADORA|NR_TURMA_APURADORA|\n",
      "+----------+----------+-----------+---------------+-----------------+---------+----------+--------+----------+--------------------+-----+------------+--------------+-------+--------+----------------+-----------------+-----------------+----------+----------+--------------------+-------------------+--------+-----------------+-------------+------------+------------+---------------+---------------+----------+--------------+--------+-----------------+-------------------------+-------------------------+---------------------------+-----------------------+-----------------------+------------+-------------------+-------------------+-------------------------+-------------------+------------------+------------------+\n",
      "|05/10/2022|  15:08:07|       2022|              0|Eleição Ordinária|      406|02/10/2022|       1|       544|Eleição Geral Fed...|   RJ|       60011|RIO DE JANEIRO|      4|      10|            1180|                1|       Presidente|        13|        PT|Partido dos Traba...|02/10/2022 19:28:41|     341|              250|           91|           1|     APURADA|              1|        Nominal|        13|          LULA|     137|          2208140|     160.260.237.153.9...|                  558.525|                   E356201E|    19/09/2022 15:19:00|                 1 - 10|      #NULO#|02/10/2022 08:00:01|02/10/2022 17:03:19|                       13|02/10/2022 17:05:41|                -1|                -1|\n",
      "|05/10/2022|  15:08:07|       2022|              0|Eleição Ordinária|      406|02/10/2022|       1|       544|Eleição Geral Fed...|   RJ|       60011|RIO DE JANEIRO|      4|      10|            1180|                1|       Presidente|        22|        PL|     Partido Liberal|02/10/2022 19:28:41|     341|              250|           91|           1|     APURADA|              1|        Nominal|        22|JAIR BOLSONARO|      70|          2208140|     160.260.237.153.9...|                  558.525|                   E356201E|    19/09/2022 15:19:00|                 1 - 10|      #NULO#|02/10/2022 08:00:01|02/10/2022 17:03:19|                       13|02/10/2022 17:05:41|                -1|                -1|\n",
      "|05/10/2022|  15:08:07|       2022|              0|Eleição Ordinária|      406|02/10/2022|       1|       544|Eleição Geral Fed...|   RJ|       60011|RIO DE JANEIRO|      4|      10|            1180|                1|       Presidente|        15|       MDB|Movimento Democrá...|02/10/2022 19:28:41|     341|              250|           91|           1|     APURADA|              1|        Nominal|        15|  SIMONE TEBET|      18|          2208140|     160.260.237.153.9...|                  558.525|                   E356201E|    19/09/2022 15:19:00|                 1 - 10|      #NULO#|02/10/2022 08:00:01|02/10/2022 17:03:19|                       13|02/10/2022 17:05:41|                -1|                -1|\n",
      "|05/10/2022|  15:08:07|       2022|              0|Eleição Ordinária|      406|02/10/2022|       1|       544|Eleição Geral Fed...|   RJ|       60011|RIO DE JANEIRO|      4|      10|            1180|                1|       Presidente|        12|       PDT|Partido Democráti...|02/10/2022 19:28:41|     341|              250|           91|           1|     APURADA|              1|        Nominal|        12|    CIRO GOMES|      12|          2208140|     160.260.237.153.9...|                  558.525|                   E356201E|    19/09/2022 15:19:00|                 1 - 10|      #NULO#|02/10/2022 08:00:01|02/10/2022 17:03:19|                       13|02/10/2022 17:05:41|                -1|                -1|\n",
      "|05/10/2022|  15:08:07|       2022|              0|Eleição Ordinária|      406|02/10/2022|       1|       544|Eleição Geral Fed...|   RJ|       60011|RIO DE JANEIRO|      4|      10|            1180|                1|       Presidente|        -1|    #NULO#|              #NULO#|02/10/2022 19:28:41|     341|              250|           91|           1|     APURADA|              2|         Branco|        95|        Branco|       2|          2208140|     160.260.237.153.9...|                  558.525|                   E356201E|    19/09/2022 15:19:00|                 1 - 10|      #NULO#|02/10/2022 08:00:01|02/10/2022 17:03:19|                       13|02/10/2022 17:05:41|                -1|                -1|\n",
      "+----------+----------+-----------+---------------+-----------------+---------+----------+--------+----------+--------------------+-----+------------+--------------+-------+--------+----------------+-----------------+-----------------+----------+----------+--------------------+-------------------+--------+-----------------+-------------+------------+------------+---------------+---------------+----------+--------------+--------+-----------------+-------------------------+-------------------------+---------------------------+-----------------------+-----------------------+------------+-------------------+-------------------+-------------------------+-------------------+------------------+------------------+\n",
      "only showing top 5 rows\n",
      "\n"
     ]
    },
    {
     "name": "stderr",
     "output_type": "stream",
     "text": [
      "                                                                                \r"
     ]
    }
   ],
   "execution_count": 27
  },
  {
   "metadata": {
    "ExecuteTime": {
     "end_time": "2024-11-06T04:14:00.643866Z",
     "start_time": "2024-11-06T04:14:00.263570Z"
    }
   },
   "cell_type": "code",
   "source": "print('Total number of rows:', \"{:,}\".format(df.count()))",
   "id": "6a905ceac4a154a4",
   "outputs": [
    {
     "name": "stdout",
     "output_type": "stream",
     "text": [
      "Total number of rows: 72,971,823\n"
     ]
    }
   ],
   "execution_count": 28
  },
  {
   "metadata": {},
   "cell_type": "markdown",
   "source": "### Programmatic vs SQL queries",
   "id": "12632908ca6a60c4"
  },
  {
   "metadata": {
    "ExecuteTime": {
     "end_time": "2024-11-06T04:13:46.108317Z",
     "start_time": "2024-11-06T04:13:45.632048Z"
    }
   },
   "cell_type": "code",
   "source": [
    "from pyspark.sql.functions import sum\n",
    "\n",
    "df_filtered = df.filter(df['SG_UF'] == 'RS')\n",
    "\n",
    "result_df = df_filtered.groupBy('NM_VOTAVEL') \\\n",
    "    .agg(sum('QT_VOTOS').alias('TOTAL_VOTOS'))\n",
    "\n",
    "# Show the result\n",
    "result_df.show()"
   ],
   "id": "e9284c57f77a2523",
   "outputs": [
    {
     "ename": "AnalysisException",
     "evalue": "[UNRESOLVED_COLUMN.WITH_SUGGESTION] A column or function parameter with name `SG_UF` cannot be resolved. Did you mean one of the following? [`NM_VOTAVEL`, `NR_VOTAVEL`, `DS_CARGO_PERGUNTA`, `TOTAL_VOTES`].",
     "output_type": "error",
     "traceback": [
      "\u001B[0;31m---------------------------------------------------------------------------\u001B[0m",
      "\u001B[0;31mAnalysisException\u001B[0m                         Traceback (most recent call last)",
      "Cell \u001B[0;32mIn[26], line 3\u001B[0m\n\u001B[1;32m      1\u001B[0m \u001B[38;5;28;01mfrom\u001B[39;00m \u001B[38;5;21;01mpyspark\u001B[39;00m\u001B[38;5;21;01m.\u001B[39;00m\u001B[38;5;21;01msql\u001B[39;00m\u001B[38;5;21;01m.\u001B[39;00m\u001B[38;5;21;01mfunctions\u001B[39;00m \u001B[38;5;28;01mimport\u001B[39;00m \u001B[38;5;28msum\u001B[39m\n\u001B[0;32m----> 3\u001B[0m df_filtered \u001B[38;5;241m=\u001B[39m df\u001B[38;5;241m.\u001B[39mfilter(\u001B[43mdf\u001B[49m\u001B[43m[\u001B[49m\u001B[38;5;124;43m'\u001B[39;49m\u001B[38;5;124;43mSG_UF\u001B[39;49m\u001B[38;5;124;43m'\u001B[39;49m\u001B[43m]\u001B[49m \u001B[38;5;241m==\u001B[39m \u001B[38;5;124m'\u001B[39m\u001B[38;5;124mRS\u001B[39m\u001B[38;5;124m'\u001B[39m)\n\u001B[1;32m      5\u001B[0m result_df \u001B[38;5;241m=\u001B[39m df_filtered\u001B[38;5;241m.\u001B[39mgroupBy(\u001B[38;5;124m'\u001B[39m\u001B[38;5;124mNM_VOTAVEL\u001B[39m\u001B[38;5;124m'\u001B[39m) \\\n\u001B[1;32m      6\u001B[0m     \u001B[38;5;241m.\u001B[39magg(\u001B[38;5;28msum\u001B[39m(\u001B[38;5;124m'\u001B[39m\u001B[38;5;124mQT_VOTOS\u001B[39m\u001B[38;5;124m'\u001B[39m)\u001B[38;5;241m.\u001B[39malias(\u001B[38;5;124m'\u001B[39m\u001B[38;5;124mTOTAL_VOTOS\u001B[39m\u001B[38;5;124m'\u001B[39m))\n\u001B[1;32m      8\u001B[0m \u001B[38;5;66;03m# Show the result\u001B[39;00m\n",
      "File \u001B[0;32m~/Documents/PUCRS/psypark-poc/venv/lib/python3.9/site-packages/pyspark/sql/dataframe.py:3080\u001B[0m, in \u001B[0;36mDataFrame.__getitem__\u001B[0;34m(self, item)\u001B[0m\n\u001B[1;32m   3008\u001B[0m \u001B[38;5;250m\u001B[39m\u001B[38;5;124;03m\"\"\"Returns the column as a :class:`Column`.\u001B[39;00m\n\u001B[1;32m   3009\u001B[0m \n\u001B[1;32m   3010\u001B[0m \u001B[38;5;124;03m.. versionadded:: 1.3.0\u001B[39;00m\n\u001B[0;32m   (...)\u001B[0m\n\u001B[1;32m   3077\u001B[0m \u001B[38;5;124;03m+---+----+\u001B[39;00m\n\u001B[1;32m   3078\u001B[0m \u001B[38;5;124;03m\"\"\"\u001B[39;00m\n\u001B[1;32m   3079\u001B[0m \u001B[38;5;28;01mif\u001B[39;00m \u001B[38;5;28misinstance\u001B[39m(item, \u001B[38;5;28mstr\u001B[39m):\n\u001B[0;32m-> 3080\u001B[0m     jc \u001B[38;5;241m=\u001B[39m \u001B[38;5;28;43mself\u001B[39;49m\u001B[38;5;241;43m.\u001B[39;49m\u001B[43m_jdf\u001B[49m\u001B[38;5;241;43m.\u001B[39;49m\u001B[43mapply\u001B[49m\u001B[43m(\u001B[49m\u001B[43mitem\u001B[49m\u001B[43m)\u001B[49m\n\u001B[1;32m   3081\u001B[0m     \u001B[38;5;28;01mreturn\u001B[39;00m Column(jc)\n\u001B[1;32m   3082\u001B[0m \u001B[38;5;28;01melif\u001B[39;00m \u001B[38;5;28misinstance\u001B[39m(item, Column):\n",
      "File \u001B[0;32m~/Documents/PUCRS/psypark-poc/venv/lib/python3.9/site-packages/py4j/java_gateway.py:1322\u001B[0m, in \u001B[0;36mJavaMember.__call__\u001B[0;34m(self, *args)\u001B[0m\n\u001B[1;32m   1316\u001B[0m command \u001B[38;5;241m=\u001B[39m proto\u001B[38;5;241m.\u001B[39mCALL_COMMAND_NAME \u001B[38;5;241m+\u001B[39m\\\n\u001B[1;32m   1317\u001B[0m     \u001B[38;5;28mself\u001B[39m\u001B[38;5;241m.\u001B[39mcommand_header \u001B[38;5;241m+\u001B[39m\\\n\u001B[1;32m   1318\u001B[0m     args_command \u001B[38;5;241m+\u001B[39m\\\n\u001B[1;32m   1319\u001B[0m     proto\u001B[38;5;241m.\u001B[39mEND_COMMAND_PART\n\u001B[1;32m   1321\u001B[0m answer \u001B[38;5;241m=\u001B[39m \u001B[38;5;28mself\u001B[39m\u001B[38;5;241m.\u001B[39mgateway_client\u001B[38;5;241m.\u001B[39msend_command(command)\n\u001B[0;32m-> 1322\u001B[0m return_value \u001B[38;5;241m=\u001B[39m \u001B[43mget_return_value\u001B[49m\u001B[43m(\u001B[49m\n\u001B[1;32m   1323\u001B[0m \u001B[43m    \u001B[49m\u001B[43manswer\u001B[49m\u001B[43m,\u001B[49m\u001B[43m \u001B[49m\u001B[38;5;28;43mself\u001B[39;49m\u001B[38;5;241;43m.\u001B[39;49m\u001B[43mgateway_client\u001B[49m\u001B[43m,\u001B[49m\u001B[43m \u001B[49m\u001B[38;5;28;43mself\u001B[39;49m\u001B[38;5;241;43m.\u001B[39;49m\u001B[43mtarget_id\u001B[49m\u001B[43m,\u001B[49m\u001B[43m \u001B[49m\u001B[38;5;28;43mself\u001B[39;49m\u001B[38;5;241;43m.\u001B[39;49m\u001B[43mname\u001B[49m\u001B[43m)\u001B[49m\n\u001B[1;32m   1325\u001B[0m \u001B[38;5;28;01mfor\u001B[39;00m temp_arg \u001B[38;5;129;01min\u001B[39;00m temp_args:\n\u001B[1;32m   1326\u001B[0m     \u001B[38;5;28;01mif\u001B[39;00m \u001B[38;5;28mhasattr\u001B[39m(temp_arg, \u001B[38;5;124m\"\u001B[39m\u001B[38;5;124m_detach\u001B[39m\u001B[38;5;124m\"\u001B[39m):\n",
      "File \u001B[0;32m~/Documents/PUCRS/psypark-poc/venv/lib/python3.9/site-packages/pyspark/errors/exceptions/captured.py:185\u001B[0m, in \u001B[0;36mcapture_sql_exception.<locals>.deco\u001B[0;34m(*a, **kw)\u001B[0m\n\u001B[1;32m    181\u001B[0m converted \u001B[38;5;241m=\u001B[39m convert_exception(e\u001B[38;5;241m.\u001B[39mjava_exception)\n\u001B[1;32m    182\u001B[0m \u001B[38;5;28;01mif\u001B[39;00m \u001B[38;5;129;01mnot\u001B[39;00m \u001B[38;5;28misinstance\u001B[39m(converted, UnknownException):\n\u001B[1;32m    183\u001B[0m     \u001B[38;5;66;03m# Hide where the exception came from that shows a non-Pythonic\u001B[39;00m\n\u001B[1;32m    184\u001B[0m     \u001B[38;5;66;03m# JVM exception message.\u001B[39;00m\n\u001B[0;32m--> 185\u001B[0m     \u001B[38;5;28;01mraise\u001B[39;00m converted \u001B[38;5;28;01mfrom\u001B[39;00m \u001B[38;5;28;01mNone\u001B[39;00m\n\u001B[1;32m    186\u001B[0m \u001B[38;5;28;01melse\u001B[39;00m:\n\u001B[1;32m    187\u001B[0m     \u001B[38;5;28;01mraise\u001B[39;00m\n",
      "\u001B[0;31mAnalysisException\u001B[0m: [UNRESOLVED_COLUMN.WITH_SUGGESTION] A column or function parameter with name `SG_UF` cannot be resolved. Did you mean one of the following? [`NM_VOTAVEL`, `NR_VOTAVEL`, `DS_CARGO_PERGUNTA`, `TOTAL_VOTES`]."
     ]
    }
   ],
   "execution_count": 26
  },
  {
   "metadata": {
    "ExecuteTime": {
     "end_time": "2024-11-06T04:11:40.775941Z",
     "start_time": "2024-11-06T04:11:40.774073Z"
    }
   },
   "cell_type": "code",
   "source": "",
   "id": "f2e7b7ce9290562b",
   "outputs": [],
   "execution_count": null
  },
  {
   "metadata": {
    "ExecuteTime": {
     "end_time": "2024-11-06T04:11:44.122286Z",
     "start_time": "2024-11-06T04:11:40.830823Z"
    }
   },
   "cell_type": "code",
   "source": [
    "df.createOrReplaceTempView(\"boletins_urna\")\n",
    "\n",
    "result_df = spark.sql(\"\"\"\n",
    "    SELECT \n",
    "        NM_VOTAVEL,\n",
    "        sum(QT_VOTOS) AS TOTAL_VOTOS\n",
    "    FROM \n",
    "        boletins_urna\n",
    "    WHERE \n",
    "        SG_UF = 'RS'\n",
    "    GROUP BY \n",
    "        NM_VOTAVEL\n",
    "\"\"\")\n",
    "\n",
    "result_df.show()"
   ],
   "id": "cf90a875dd49f020",
   "outputs": [
    {
     "name": "stderr",
     "output_type": "stream",
     "text": [
      "[Stage 9:==============================================>          (23 + 1) / 28]\r"
     ]
    },
    {
     "name": "stdout",
     "output_type": "stream",
     "text": [
      "+------------+----------+-------+--------+------------+\n",
      "|CD_MUNICIPIO|CD_ELEICAO|NR_ZONA|NR_SECAO|SUM_QT_APTOS|\n",
      "+------------+----------+-------+--------+------------+\n",
      "|       88013|       544|      1|      18|        3132|\n",
      "|       88013|       544|      1|      43|        1590|\n",
      "|       88013|       544|      1|     194|        3120|\n",
      "|       88013|       544|      1|     206|        3088|\n",
      "|       88013|       544|      2|     272|        2009|\n",
      "|       88013|       546|      2|     291|       74824|\n",
      "|       88013|       544|      2|     366|        2436|\n",
      "|       86711|       546|      3|      27|       36934|\n",
      "|       87394|       546|      3|      94|       22654|\n",
      "|       85073|       546|      5|       3|       49407|\n",
      "|       85073|       544|      5|      57|        2728|\n",
      "|       85073|       546|      5|      76|       36480|\n",
      "|       85073|       544|      5|     155|        1778|\n",
      "|       85553|       546|      9|      81|       47212|\n",
      "|       85596|       546|     10|     160|       46426|\n",
      "|       84891|       546|     11|     127|       39600|\n",
      "|       87998|       546|     11|     161|       63855|\n",
      "|       85723|       546|     11|     233|        7905|\n",
      "|       85693|       544|     12|       2|        2376|\n",
      "|       85693|       544|     12|      31|        1568|\n",
      "+------------+----------+-------+--------+------------+\n",
      "only showing top 20 rows\n",
      "\n"
     ]
    },
    {
     "name": "stderr",
     "output_type": "stream",
     "text": [
      "                                                                                \r"
     ]
    }
   ],
   "execution_count": 6
  },
  {
   "metadata": {},
   "cell_type": "markdown",
   "source": "### Data Exploration",
   "id": "41eaf5bb57e335d5"
  },
  {
   "metadata": {
    "ExecuteTime": {
     "end_time": "2024-11-06T04:12:23.733837Z",
     "start_time": "2024-11-06T04:11:44.170602Z"
    }
   },
   "cell_type": "code",
   "source": [
    "top_10_candidates_df = spark.sql(\"\"\"\n",
    "    SELECT DISTINCT \n",
    "        NM_VOTAVEL,\n",
    "        NR_VOTAVEL,\n",
    "        SUM(QT_VOTOS) AS TOTAL_VOTES,\n",
    "        DS_CARGO_PERGUNTA\n",
    "    FROM\n",
    "        boletins_urna\n",
    "    WHERE\n",
    "        DS_CARGO_PERGUNTA = 'Deputado Federal'\n",
    "        AND NM_VOTAVEL != 'Branco'\n",
    "        AND NM_VOTAVEL != 'Nulo'\n",
    "    GROUP BY\n",
    "        NR_VOTAVEL,\n",
    "        NM_VOTAVEL, \n",
    "        DS_CARGO_PERGUNTA,\n",
    "        CD_ELEICAO, \n",
    "        NR_TURNO\n",
    "    ORDER BY\n",
    "        TOTAL_VOTES DESC\n",
    "    LIMIT 10\n",
    "\"\"\")\n",
    "\n",
    "top_10_candidates_df.show()"
   ],
   "id": "796955c5c0e18d82",
   "outputs": [
    {
     "name": "stderr",
     "output_type": "stream",
     "text": [
      "[Stage 12:======================================================> (27 + 1) / 28]\r"
     ]
    },
    {
     "name": "stdout",
     "output_type": "stream",
     "text": [
      "+-------------------+----------+-----------+-----------------+\n",
      "|         NM_VOTAVEL|NR_VOTAVEL|TOTAL_VOTES|DS_CARGO_PERGUNTA|\n",
      "+-------------------+----------+-----------+-----------------+\n",
      "|   NIKOLAS FERREIRA|      2222|    1492047| Deputado Federal|\n",
      "|                 PT|        13|    1263808| Deputado Federal|\n",
      "|   GUILHERME BOULOS|      5010|    1001472| Deputado Federal|\n",
      "|     CARLA ZAMBELLI|      2210|     946244| Deputado Federal|\n",
      "|  EDUARDO BOLSONARO|      2222|     741701| Deputado Federal|\n",
      "|                 PL|        22|     654473| Deputado Federal|\n",
      "|     RICARDO SALLES|      2250|     640918| Deputado Federal|\n",
      "|DELEGADO BRUNO LIMA|      1111|     461217| Deputado Federal|\n",
      "|   DELTAN DALLAGNOL|      1919|     344917| Deputado Federal|\n",
      "|      TABATA AMARAL|      4040|     337873| Deputado Federal|\n",
      "+-------------------+----------+-----------+-----------------+\n",
      "\n"
     ]
    },
    {
     "name": "stderr",
     "output_type": "stream",
     "text": [
      "                                                                                \r"
     ]
    }
   ],
   "execution_count": 7
  },
  {
   "metadata": {
    "ExecuteTime": {
     "end_time": "2024-11-06T04:12:33.808922Z",
     "start_time": "2024-11-06T04:12:23.760490Z"
    }
   },
   "cell_type": "code",
   "source": [
    "top_5_municipios_abstencoes_df = spark.sql(\"\"\"\n",
    "    SELECT\n",
    "        NM_MUNICIPIO,\n",
    "        SUM(QT_ABSTENCOES) / SUM(QT_APTOS) AS PERCENT_ABSTENCOES\n",
    "    FROM\n",
    "        boletins_urna\n",
    "    WHERE\n",
    "        SG_UF = 'RS'\n",
    "    GROUP BY\n",
    "        NM_MUNICIPIO\n",
    "    ORDER BY\n",
    "        PERCENT_ABSTENCOES DESC\n",
    "    LIMIT 5\n",
    "\"\"\")\n",
    "\n",
    "# Show the result\n",
    "top_5_municipios_abstencoes_df.show()"
   ],
   "id": "8541614f5b083fde",
   "outputs": [
    {
     "name": "stderr",
     "output_type": "stream",
     "text": [
      "[Stage 18:====================================================>   (26 + 1) / 28]\r"
     ]
    },
    {
     "name": "stdout",
     "output_type": "stream",
     "text": [
      "+--------------------+-------------------+\n",
      "|        NM_MUNICIPIO| PERCENT_ABSTENCOES|\n",
      "+--------------------+-------------------+\n",
      "|SANT'ANA DO LIVRA...| 0.2917829408883093|\n",
      "|              ITAQUI| 0.2847096434642711|\n",
      "|          URUGUAIANA|0.27927894259569674|\n",
      "|SANTA VITÓRIA DO ...| 0.2735715633223645|\n",
      "|    BALNEÁRIO PINHAL| 0.2729145269208924|\n",
      "+--------------------+-------------------+\n",
      "\n"
     ]
    },
    {
     "name": "stderr",
     "output_type": "stream",
     "text": [
      "                                                                                \r"
     ]
    }
   ],
   "execution_count": 8
  },
  {
   "metadata": {
    "ExecuteTime": {
     "end_time": "2024-11-06T04:12:49.629930Z",
     "start_time": "2024-11-06T04:12:33.892436Z"
    }
   },
   "cell_type": "code",
   "source": [
    "top_5_municipios_abstencoes_pd_df = top_5_municipios_abstencoes_df.toPandas()\n",
    "\n",
    "plt.figure(figsize=(10, 6))\n",
    "plt.bar(top_5_municipios_abstencoes_pd_df['NM_MUNICIPIO'], top_5_municipios_abstencoes_pd_df['PERCENT_ABSTENCOES'])\n",
    "plt.xlabel('Municipio')\n",
    "plt.ylabel('Percent Abstencoes')\n",
    "plt.yscale('log')\n",
    "plt.title('Top 5 Municipios with Highest Percentage of Abstencoes')\n",
    "plt.xticks(rotation=45)\n",
    "plt.show()"
   ],
   "id": "dcea3a647bb745e9",
   "outputs": [
    {
     "name": "stderr",
     "output_type": "stream",
     "text": [
      "                                                                                \r"
     ]
    },
    {
     "data": {
      "text/plain": [
       "<Figure size 1000x600 with 1 Axes>"
      ],
      "image/png": "[encoded data removed]"
     },
     "metadata": {},
     "output_type": "display_data"
    }
   ],
   "execution_count": 9
  },
  {
   "metadata": {},
   "cell_type": "markdown",
   "source": "### Data Preprocessing",
   "id": "f3fb070570573a8"
  },
  {
   "metadata": {
    "ExecuteTime": {
     "end_time": "2024-11-06T04:13:12.015450Z",
     "start_time": "2024-11-06T04:12:49.643366Z"
    }
   },
   "cell_type": "code",
   "source": [
    "total_votes_df = spark.sql(\"\"\"\n",
    "    SELECT DISTINCT \n",
    "        NM_VOTAVEL,\n",
    "        NR_VOTAVEL,\n",
    "        DS_CARGO_PERGUNTA,\n",
    "        SUM(QT_VOTOS) AS TOTAL_VOTES\n",
    "    FROM\n",
    "        boletins_urna\n",
    "    WHERE\n",
    "        NM_VOTAVEL != 'Branco' AND\n",
    "        NM_VOTAVEL != 'Nulo' AND\n",
    "        NR_TURNO = 1\n",
    "    GROUP BY\n",
    "        NR_VOTAVEL,\n",
    "        NM_VOTAVEL, \n",
    "        DS_CARGO_PERGUNTA,\n",
    "        CD_ELEICAO, \n",
    "        NR_TURNO\n",
    "\"\"\")\n",
    "\n",
    "output_parquet_dir = \"output/total_votes\"\n",
    "total_votes_df.write.mode('overwrite').parquet(output_parquet_dir)"
   ],
   "id": "601009a731904d40",
   "outputs": [
    {
     "name": "stderr",
     "output_type": "stream",
     "text": [
      "                                                                                \r"
     ]
    }
   ],
   "execution_count": 10
  },
  {
   "metadata": {},
   "cell_type": "markdown",
   "source": "## Joining DataFrames",
   "id": "5c99447a08da5eb8"
  },
  {
   "metadata": {},
   "cell_type": "markdown",
   "source": "### Creating candidates table",
   "id": "1970b2595c114d0a"
  },
  {
   "metadata": {
    "ExecuteTime": {
     "end_time": "2024-11-06T04:13:12.122985Z",
     "start_time": "2024-11-06T04:13:12.049065Z"
    }
   },
   "cell_type": "code",
   "source": [
    "parquet_dir = \"datasets/consulta_cand_2022\"\n",
    "df = spark.read.option(\"delimiter\", \";\").parquet(parquet_dir)\n",
    "\n",
    "df.printSchema()"
   ],
   "id": "f9ef8b38d9dcc076",
   "outputs": [
    {
     "name": "stdout",
     "output_type": "stream",
     "text": [
      "root\n",
      " |-- DT_GERACAO: string (nullable = true)\n",
      " |-- HH_GERACAO: string (nullable = true)\n",
      " |-- ANO_ELEICAO: long (nullable = true)\n",
      " |-- CD_TIPO_ELEICAO: long (nullable = true)\n",
      " |-- NM_TIPO_ELEICAO: string (nullable = true)\n",
      " |-- NR_TURNO: long (nullable = true)\n",
      " |-- CD_ELEICAO: long (nullable = true)\n",
      " |-- DS_ELEICAO: string (nullable = true)\n",
      " |-- DT_ELEICAO: string (nullable = true)\n",
      " |-- TP_ABRANGENCIA_ELEICAO: string (nullable = true)\n",
      " |-- SG_UF: string (nullable = true)\n",
      " |-- SG_UE: string (nullable = true)\n",
      " |-- NM_UE: string (nullable = true)\n",
      " |-- CD_CARGO: long (nullable = true)\n",
      " |-- DS_CARGO: string (nullable = true)\n",
      " |-- SQ_CANDIDATO: long (nullable = true)\n",
      " |-- NR_CANDIDATO: long (nullable = true)\n",
      " |-- NM_CANDIDATO: string (nullable = true)\n",
      " |-- NM_URNA_CANDIDATO: string (nullable = true)\n",
      " |-- NM_SOCIAL_CANDIDATO: string (nullable = true)\n",
      " |-- NR_CPF_CANDIDATO: long (nullable = true)\n",
      " |-- DS_EMAIL: string (nullable = true)\n",
      " |-- CD_SITUACAO_CANDIDATURA: long (nullable = true)\n",
      " |-- DS_SITUACAO_CANDIDATURA: string (nullable = true)\n",
      " |-- TP_AGREMIACAO: string (nullable = true)\n",
      " |-- NR_PARTIDO: long (nullable = true)\n",
      " |-- SG_PARTIDO: string (nullable = true)\n",
      " |-- NM_PARTIDO: string (nullable = true)\n",
      " |-- NR_FEDERACAO: long (nullable = true)\n",
      " |-- NM_FEDERACAO: string (nullable = true)\n",
      " |-- SG_FEDERACAO: string (nullable = true)\n",
      " |-- DS_COMPOSICAO_FEDERACAO: string (nullable = true)\n",
      " |-- SQ_COLIGACAO: long (nullable = true)\n",
      " |-- NM_COLIGACAO: string (nullable = true)\n",
      " |-- DS_COMPOSICAO_COLIGACAO: string (nullable = true)\n",
      " |-- SG_UF_NASCIMENTO: string (nullable = true)\n",
      " |-- DT_NASCIMENTO: string (nullable = true)\n",
      " |-- NR_TITULO_ELEITORAL_CANDIDATO: long (nullable = true)\n",
      " |-- CD_GENERO: long (nullable = true)\n",
      " |-- DS_GENERO: string (nullable = true)\n",
      " |-- CD_GRAU_INSTRUCAO: long (nullable = true)\n",
      " |-- DS_GRAU_INSTRUCAO: string (nullable = true)\n",
      " |-- CD_ESTADO_CIVIL: long (nullable = true)\n",
      " |-- DS_ESTADO_CIVIL: string (nullable = true)\n",
      " |-- CD_COR_RACA: long (nullable = true)\n",
      " |-- DS_COR_RACA: string (nullable = true)\n",
      " |-- CD_OCUPACAO: long (nullable = true)\n",
      " |-- DS_OCUPACAO: string (nullable = true)\n",
      " |-- CD_SIT_TOT_TURNO: long (nullable = true)\n",
      " |-- DS_SIT_TOT_TURNO: string (nullable = true)\n",
      "\n"
     ]
    }
   ],
   "execution_count": 11
  },
  {
   "metadata": {
    "ExecuteTime": {
     "end_time": "2024-11-06T04:13:12.352986Z",
     "start_time": "2024-11-06T04:13:12.134825Z"
    }
   },
   "cell_type": "code",
   "source": "df.show()",
   "id": "3f6f7d68c4f23094",
   "outputs": [
    {
     "name": "stdout",
     "output_type": "stream",
     "text": [
      "+----------+----------+-----------+---------------+-----------------+--------+----------+--------------------+----------+----------------------+-----+-----+------------------+--------+------------------+------------+------------+--------------------+--------------------+-------------------+----------------+--------------+-----------------------+-----------------------+---------------+----------+-------------+--------------------+------------+--------------------+--------------+-----------------------+------------+---------------+-----------------------+----------------+-------------+-----------------------------+---------+--------------+-----------------+--------------------+---------------+---------------+-----------+--------------+-----------+--------------------+----------------+----------------+\n",
      "|DT_GERACAO|HH_GERACAO|ANO_ELEICAO|CD_TIPO_ELEICAO|  NM_TIPO_ELEICAO|NR_TURNO|CD_ELEICAO|          DS_ELEICAO|DT_ELEICAO|TP_ABRANGENCIA_ELEICAO|SG_UF|SG_UE|             NM_UE|CD_CARGO|          DS_CARGO|SQ_CANDIDATO|NR_CANDIDATO|        NM_CANDIDATO|   NM_URNA_CANDIDATO|NM_SOCIAL_CANDIDATO|NR_CPF_CANDIDATO|      DS_EMAIL|CD_SITUACAO_CANDIDATURA|DS_SITUACAO_CANDIDATURA|  TP_AGREMIACAO|NR_PARTIDO|   SG_PARTIDO|          NM_PARTIDO|NR_FEDERACAO|        NM_FEDERACAO|  SG_FEDERACAO|DS_COMPOSICAO_FEDERACAO|SQ_COLIGACAO|   NM_COLIGACAO|DS_COMPOSICAO_COLIGACAO|SG_UF_NASCIMENTO|DT_NASCIMENTO|NR_TITULO_ELEITORAL_CANDIDATO|CD_GENERO|     DS_GENERO|CD_GRAU_INSTRUCAO|   DS_GRAU_INSTRUCAO|CD_ESTADO_CIVIL|DS_ESTADO_CIVIL|CD_COR_RACA|   DS_COR_RACA|CD_OCUPACAO|         DS_OCUPACAO|CD_SIT_TOT_TURNO|DS_SIT_TOT_TURNO|\n",
      "+----------+----------+-----------+---------------+-----------------+--------+----------+--------------------+----------+----------------------+-----+-----+------------------+--------+------------------+------------+------------+--------------------+--------------------+-------------------+----------------+--------------+-----------------------+-----------------------+---------------+----------+-------------+--------------------+------------+--------------------+--------------+-----------------------+------------+---------------+-----------------------+----------------+-------------+-----------------------------+---------+--------------+-----------------+--------------------+---------------+---------------+-----------+--------------+-----------+--------------------+----------------+----------------+\n",
      "|28/09/2024|  03:37:22|       2022|              2|ELEIÇÃO ORDINÁRIA|       1|       546|Eleições Gerais E...|02/10/2022|              ESTADUAL|   SP|   SP|         SÃO PAULO|       6|  DEPUTADO FEDERAL|250001597695|        3001|MARINA HELENA CUN...|       MARINA HELENA|     NÃO DIVULGÁVEL|              -4|NÃO DIVULGÁVEL|                     12|                   APTO|PARTIDO ISOLADO|        30|         NOVO|        PARTIDO NOVO|          -1|              #NULO#|        #NULO#|                 #NULO#|250001680945|PARTIDO ISOLADO|                   NOVO|  Não divulgável|         NULL|                           -4|       -4|NÃO DIVULGÁVEL|               -4|      NÃO DIVULGÁVEL|             -4| NÃO DIVULGÁVEL|         -4|NÃO DIVULGÁVEL|         -4|      NÃO DIVULGÁVEL|               5|        SUPLENTE|\n",
      "|28/09/2024|  03:37:22|       2022|              2|ELEIÇÃO ORDINÁRIA|       1|       546|Eleições Gerais E...|02/10/2022|              ESTADUAL|   RS|   RS| RIO GRANDE DO SUL|       7| DEPUTADO ESTADUAL|210001596148|       19467|         SINARA KUHN|         SINARA KUHN|             #NULO#|     92688284053|NÃO DIVULGÁVEL|                     12|                   APTO|PARTIDO ISOLADO|        19|         PODE|             PODEMOS|          -1|              #NULO#|        #NULO#|                 #NULO#|210001680883|PARTIDO ISOLADO|                   PODE|              RS|   14/04/1980|                  71885660485|        4|      FEMININO|                8|   SUPERIOR COMPLETO|              1|    SOLTEIRO(A)|          1|        BRANCA|        102|           ARQUITETO|               5|        SUPLENTE|\n",
      "|28/09/2024|  03:37:22|       2022|              2|ELEIÇÃO ORDINÁRIA|       1|       546|Eleições Gerais E...|02/10/2022|              ESTADUAL|   SP|   SP|         SÃO PAULO|       7| DEPUTADO ESTADUAL|250001611743|       13877|  JANETE ROCHA PIETÁ|        JANETE PIETÁ|             #NULO#|     25052754833|NÃO DIVULGÁVEL|                     12|                   APTO|      FEDERAÇÃO|        13|           PT|PARTIDO DOS TRABA...|           2|Federação Brasil ...| PT/PC do B/PV|          PT/PC do B/PV|250001681589|      FEDERAÇÃO|   Federação Brasil ...|              RJ|   03/11/1946|                 112574690167|        4|      FEMININO|                8|   SUPERIOR COMPLETO|              3|      CASADO(A)|          2|         PRETA|        102|           ARQUITETO|               5|        SUPLENTE|\n",
      "|28/09/2024|  03:37:22|       2022|              2|ELEIÇÃO ORDINÁRIA|       1|       546|Eleições Gerais E...|02/10/2022|              ESTADUAL|   PA|   PA|              PARÁ|       7| DEPUTADO ESTADUAL|140001600266|       20800|ALAN JOSÉ COSTA P...|       ALAN PAMPOLHA|             #NULO#|     71136320253|NÃO DIVULGÁVEL|                     12|                   APTO|PARTIDO ISOLADO|        20|          PSC|PARTIDO SOCIAL CR...|          -1|              #NULO#|        #NULO#|                 #NULO#|140001681044|PARTIDO ISOLADO|                    PSC|              PA|   15/05/1980|                  39741651368|        2|     MASCULINO|                8|   SUPERIOR COMPLETO|              3|      CASADO(A)|          3|         PARDA|        117|        FARMACÊUTICO|               5|        SUPLENTE|\n",
      "|28/09/2024|  03:37:22|       2022|              2|ELEIÇÃO ORDINÁRIA|       1|       546|Eleições Gerais E...|02/10/2022|              ESTADUAL|   RR|   RR|           RORAIMA|       6|  DEPUTADO FEDERAL|230001600104|        9011|WALDEREZ PEREIRA ...|          KIKA SAUDE|             #NULO#|     53025474220|NÃO DIVULGÁVEL|                     12|                   APTO|PARTIDO ISOLADO|        90|         PROS|PARTIDO REPUBLICA...|          -1|              #NULO#|        #NULO#|                 #NULO#|230001681029|PARTIDO ISOLADO|                   PROS|              RR|   27/10/1987|                   3590272658|        4|      FEMININO|                8|   SUPERIOR COMPLETO|              1|    SOLTEIRO(A)|          1|        BRANCA|        117|        FARMACÊUTICO|               4|      NÃO ELEITO|\n",
      "|28/09/2024|  03:37:22|       2022|              2|ELEIÇÃO ORDINÁRIA|       1|       546|Eleições Gerais E...|02/10/2022|              ESTADUAL|   RS|   RS| RIO GRANDE DO SUL|       7| DEPUTADO ESTADUAL|210001601633|       10888|     FRANCIS SOMENSI|        FRAN SOMENSI|             #NULO#|      1562226983|NÃO DIVULGÁVEL|                     12|                   APTO|PARTIDO ISOLADO|        10| REPUBLICANOS|        REPUBLICANOS|          -1|              #NULO#|        #NULO#|                 #NULO#|210001681124|PARTIDO ISOLADO|           REPUBLICANOS|              PR|   08/03/1978|                  59788400620|        4|      FEMININO|                8|   SUPERIOR COMPLETO|              3|      CASADO(A)|          1|        BRANCA|        117|        FARMACÊUTICO|               5|        SUPLENTE|\n",
      "|28/09/2024|  03:37:22|       2022|              2|ELEIÇÃO ORDINÁRIA|       1|       546|Eleições Gerais E...|02/10/2022|              ESTADUAL|   AM|   AM|          AMAZONAS|       6|  DEPUTADO FEDERAL| 40001633251|        6513|  VANESSA GRAZZIOTIN|             VANESSA|             #NULO#|     16114620291|NÃO DIVULGÁVEL|                     12|                   APTO|      FEDERAÇÃO|        65|      PC do B|PARTIDO COMUNISTA...|           2|Federação Brasil ...| PT/PC do B/PV|          PT/PC do B/PV| 40001682547|      FEDERAÇÃO|   Federação Brasil ...|              SC|   29/06/1961|                   3965652216|        4|      FEMININO|                8|   SUPERIOR COMPLETO|              3|      CASADO(A)|          1|        BRANCA|        117|        FARMACÊUTICO|               4|      NÃO ELEITO|\n",
      "|28/09/2024|  03:37:22|       2022|              2|ELEIÇÃO ORDINÁRIA|       1|       546|Eleições Gerais E...|02/10/2022|              ESTADUAL|   TO|   TO|         TOCANTINS|       6|  DEPUTADO FEDERAL|270001649248|        1800|RENATO ERBETT MIL...|      RENATO PORTELA|             #NULO#|     49075063172|NÃO DIVULGÁVEL|                     12|                   APTO|      FEDERAÇÃO|        18|         REDE|REDE SUSTENTABILI...|           3| Federação PSOL REDE|     PSOL/REDE|              PSOL/REDE|270001683271|      FEDERAÇÃO|   Federação PSOL RE...|              DF|   13/04/1973|                  17759221465|        2|     MASCULINO|                7| SUPERIOR INCOMPLETO|              3|      CASADO(A)|          1|        BRANCA|        147|CATADOR DE RECICL...|               4|      NÃO ELEITO|\n",
      "|28/09/2024|  03:37:22|       2022|              2|ELEIÇÃO ORDINÁRIA|       1|       546|Eleições Gerais E...|02/10/2022|              ESTADUAL|   RJ|   RJ|    RIO DE JANEIRO|       7| DEPUTADO ESTADUAL|190001620477|       13772|CLAUDETE DA COSTA...|      CLAUDETE COSTA|             #NULO#|      8519697712|NÃO DIVULGÁVEL|                     12|                   APTO|      FEDERAÇÃO|        13|           PT|PARTIDO DOS TRABA...|           2|Federação Brasil ...| PT/PC do B/PV|          PT/PC do B/PV|190001682224|      FEDERAÇÃO|   Federação Brasil ...|              SP|   25/10/1979|                 104621510361|        4|      FEMININO|                6|ENSINO MÉDIO COMP...|              1|    SOLTEIRO(A)|          2|         PRETA|        147|CATADOR DE RECICL...|               5|        SUPLENTE|\n",
      "|28/09/2024|  03:37:22|       2022|              2|ELEIÇÃO ORDINÁRIA|       1|       546|Eleições Gerais E...|02/10/2022|              ESTADUAL|   PR|   PR|            PARANÁ|       7| DEPUTADO ESTADUAL|160001597808|       30234|ALEXANDRE KITICHI...|   ALEXANDRE PIERITZ|             #NULO#|      3604198950|NÃO DIVULGÁVEL|                     12|                   APTO|PARTIDO ISOLADO|        30|         NOVO|        PARTIDO NOVO|          -1|              #NULO#|        #NULO#|                 #NULO#|160001680947|PARTIDO ISOLADO|                   NOVO|              PR|   30/10/1982|                  77376780612|        2|     MASCULINO|                7| SUPERIOR INCOMPLETO|              1|    SOLTEIRO(A)|          4|       AMARELA|        176|          COZINHEIRO|               4|      NÃO ELEITO|\n",
      "|28/09/2024|  03:37:22|       2022|              2|ELEIÇÃO ORDINÁRIA|       1|       546|Eleições Gerais E...|02/10/2022|              ESTADUAL|   PE|   PE|        PERNAMBUCO|       7| DEPUTADO ESTADUAL|170001727901|       18523|JOSAFA JOSE DE AR...|       JOSAFÁ ARAÚJO|             #NULO#|     17188199434|NÃO DIVULGÁVEL|                     12|                   APTO|      FEDERAÇÃO|        18|         REDE|REDE SUSTENTABILI...|           3| Federação PSOL REDE|     PSOL/REDE|              PSOL/REDE|170001682108|      FEDERAÇÃO|   Federação PSOL RE...|              PE|   30/01/1952|                   7023490892|        2|     MASCULINO|                6|ENSINO MÉDIO COMP...|              3|      CASADO(A)|          3|         PARDA|        192|          DESENHISTA|               5|        SUPLENTE|\n",
      "|28/09/2024|  03:37:22|       2022|              2|ELEIÇÃO ORDINÁRIA|       1|       546|Eleições Gerais E...|02/10/2022|              ESTADUAL|   MS|   MS|MATO GROSSO DO SUL|       7| DEPUTADO ESTADUAL|120001618540|       77789|GISLAINE LANDVOIG...|  GISLAINE LANDVOIGT|             #NULO#|     80570321115|NÃO DIVULGÁVEL|                     12|                   APTO|PARTIDO ISOLADO|        77|SOLIDARIEDADE|       SOLIDARIEDADE|          -1|              #NULO#|        #NULO#|                 #NULO#|120001682119|PARTIDO ISOLADO|          SOLIDARIEDADE|              MS|   06/09/1976|                  13231591961|        4|      FEMININO|                8|   SUPERIOR COMPLETO|              3|      CASADO(A)|          1|        BRANCA|        252|TRABALHADOR DE HO...|               4|      NÃO ELEITO|\n",
      "|28/09/2024|  03:37:22|       2022|              2|ELEIÇÃO ORDINÁRIA|       1|       546|Eleições Gerais E...|02/10/2022|              ESTADUAL|   PE|   PE|        PERNAMBUCO|       6|  DEPUTADO FEDERAL|170001723579|        7766|DANIEL TADEU UCHO...|        DANIEL UCHOA|             #NULO#|       773012427|NÃO DIVULGÁVEL|                     12|                   APTO|PARTIDO ISOLADO|        77|SOLIDARIEDADE|       SOLIDARIEDADE|          -1|              #NULO#|        #NULO#|                 #NULO#|170001681523|PARTIDO ISOLADO|          SOLIDARIEDADE|              PE|   19/12/1982|                  67924790841|        2|     MASCULINO|                6|ENSINO MÉDIO COMP...|              1|    SOLTEIRO(A)|          3|         PARDA|        265|PROFESSOR DE ENSI...|               5|        SUPLENTE|\n",
      "|28/09/2024|  03:37:22|       2022|              2|ELEIÇÃO ORDINÁRIA|       1|       546|Eleições Gerais E...|02/10/2022|              ESTADUAL|   DF|   DF|  DISTRITO FEDERAL|       8|DEPUTADO DISTRITAL| 70001650219|       11911|DARLEY CRUZ DE ASSIS|    PROFESSOR DARLEY|             #NULO#|      1248358139|NÃO DIVULGÁVEL|                      3|                 INAPTO|PARTIDO ISOLADO|        11|           PP|       PROGRESSISTAS|          -1|              #NULO#|        #NULO#|                 #NULO#| 70001683306|PARTIDO ISOLADO|                     PP|              DF|   22/06/1986|                  19471452097|        2|     MASCULINO|                8|   SUPERIOR COMPLETO|              1|    SOLTEIRO(A)|          1|        BRANCA|        265|PROFESSOR DE ENSI...|               4|      NÃO ELEITO|\n",
      "|28/09/2024|  03:37:22|       2022|              2|ELEIÇÃO ORDINÁRIA|       1|       546|Eleições Gerais E...|02/10/2022|              ESTADUAL|   RJ|   RJ|    RIO DE JANEIRO|       7| DEPUTADO ESTADUAL|190001723508|       21100|THIAGO COQUEIRO M...|     THIAGO COQUEIRO|             #NULO#|     12252902795|NÃO DIVULGÁVEL|                     12|                   APTO|PARTIDO ISOLADO|        21|          PCB|PARTIDO COMUNISTA...|          -1|              #NULO#|        #NULO#|                 #NULO#|190001685461|PARTIDO ISOLADO|                    PCB|              RO|   27/03/1987|                 133103610370|        2|     MASCULINO|                8|   SUPERIOR COMPLETO|              1|    SOLTEIRO(A)|          2|         PRETA|        265|PROFESSOR DE ENSI...|               4|      NÃO ELEITO|\n",
      "|28/09/2024|  03:37:22|       2022|              2|ELEIÇÃO ORDINÁRIA|       1|       546|Eleições Gerais E...|02/10/2022|              ESTADUAL|   PR|   PR|            PARANÁ|       7| DEPUTADO ESTADUAL|160001612409|       23000|SEBASTIÃO VALTER ...|    PROFESSOR VALTER|             #NULO#|     81355173949|NÃO DIVULGÁVEL|                     12|                   APTO|      FEDERAÇÃO|        23|    CIDADANIA|           CIDADANIA|           1|Federação PSDB Ci...|PSDB/CIDADANIA|         PSDB/CIDADANIA|160001681613|      FEDERAÇÃO|   Federação PSDB Ci...|              PR|   21/01/1971|                  50027890612|        2|     MASCULINO|                8|   SUPERIOR COMPLETO|              3|      CASADO(A)|          1|        BRANCA|        265|PROFESSOR DE ENSI...|               5|        SUPLENTE|\n",
      "|28/09/2024|  03:37:22|       2022|              2|ELEIÇÃO ORDINÁRIA|       1|       546|Eleições Gerais E...|02/10/2022|              ESTADUAL|   MG|   MG|      MINAS GERAIS|       7| DEPUTADO ESTADUAL|130001615237|       50456|JOÃO PAULO ALVES ...|PROFESSOR JOÃO PA...|             #NULO#|      8296865688|NÃO DIVULGÁVEL|                     12|                   APTO|      FEDERAÇÃO|        50|         PSOL|PARTIDO SOCIALISM...|           3| Federação PSOL REDE|     PSOL/REDE|              PSOL/REDE|130001681768|      FEDERAÇÃO|   Federação PSOL RE...|              MG|   04/08/1984|                 140585060213|        2|     MASCULINO|                8|   SUPERIOR COMPLETO|              3|      CASADO(A)|          2|         PRETA|        265|PROFESSOR DE ENSI...|               5|        SUPLENTE|\n",
      "|28/09/2024|  03:37:22|       2022|              2|ELEIÇÃO ORDINÁRIA|       1|       546|Eleições Gerais E...|02/10/2022|              ESTADUAL|   RS|   RS| RIO GRANDE DO SUL|       6|  DEPUTADO FEDERAL|210001723177|        9090|    EVELIN GARAGNANI|    EVELIN GARAGNANI|             #NULO#|     44785070072|NÃO DIVULGÁVEL|                      3|                 INAPTO|PARTIDO ISOLADO|        90|         PROS|PARTIDO REPUBLICA...|          -1|              #NULO#|        #NULO#|                 #NULO#|210001683297|PARTIDO ISOLADO|                   PROS|              RS|   12/08/1965|                  38320440442|        4|      FEMININO|                6|ENSINO MÉDIO COMP...|              1|    SOLTEIRO(A)|          1|        BRANCA|        265|PROFESSOR DE ENSI...|               4|      NÃO ELEITO|\n",
      "|28/09/2024|  03:37:22|       2022|              2|ELEIÇÃO ORDINÁRIA|       1|       546|Eleições Gerais E...|02/10/2022|              ESTADUAL|   BA|   BA|             BAHIA|       7| DEPUTADO ESTADUAL| 50001604605|       20000|SILVIA CRISTINA O...|SILVIA CRISTINA O...|             #NULO#|     88694003520|NÃO DIVULGÁVEL|                     12|                   APTO|PARTIDO ISOLADO|        20|          PSC|PARTIDO SOCIAL CR...|          -1|              #NULO#|        #NULO#|                 #NULO#| 50001681251|PARTIDO ISOLADO|                    PSC|              BA|   14/03/1968|                  50683300566|        4|      FEMININO|                7| SUPERIOR INCOMPLETO|              5|       VIÚVO(A)|          3|         PARDA|        265|PROFESSOR DE ENSI...|               5|        SUPLENTE|\n",
      "|28/09/2024|  03:37:22|       2022|              2|ELEIÇÃO ORDINÁRIA|       1|       546|Eleições Gerais E...|02/10/2022|              ESTADUAL|   AP|   AP|             AMAPÁ|       7| DEPUTADO ESTADUAL| 30001604790|       18833| ZILMA SOUZA DE MELO|     PROF ZILMA MELO|             #NULO#|     44977174291|NÃO DIVULGÁVEL|                     12|                   APTO|      FEDERAÇÃO|        18|         REDE|REDE SUSTENTABILI...|           3| Federação PSOL REDE|     PSOL/REDE|              PSOL/REDE| 30001681259|      FEDERAÇÃO|   Federação PSOL RE...|              PA|   15/10/1972|                   2517042534|        4|      FEMININO|                8|   SUPERIOR COMPLETO|              9|  DIVORCIADO(A)|          1|        BRANCA|        265|PROFESSOR DE ENSI...|               5|        SUPLENTE|\n",
      "+----------+----------+-----------+---------------+-----------------+--------+----------+--------------------+----------+----------------------+-----+-----+------------------+--------+------------------+------------+------------+--------------------+--------------------+-------------------+----------------+--------------+-----------------------+-----------------------+---------------+----------+-------------+--------------------+------------+--------------------+--------------+-----------------------+------------+---------------+-----------------------+----------------+-------------+-----------------------------+---------+--------------+-----------------+--------------------+---------------+---------------+-----------+--------------+-----------+--------------------+----------------+----------------+\n",
      "only showing top 20 rows\n",
      "\n"
     ]
    }
   ],
   "execution_count": 12
  },
  {
   "metadata": {
    "ExecuteTime": {
     "end_time": "2024-11-06T04:13:12.756325Z",
     "start_time": "2024-11-06T04:13:12.363315Z"
    }
   },
   "cell_type": "code",
   "source": [
    "df.createOrReplaceTempView(\"candidatos\")\n",
    "\n",
    "df = spark.sql(\"\"\"\n",
    "    SELECT DISTINCT\n",
    "        NM_URNA_CANDIDATO,\n",
    "        NM_CANDIDATO,\n",
    "        NR_CANDIDATO,\n",
    "        DS_GENERO,\n",
    "        DS_COR_RACA,\n",
    "        DS_GRAU_INSTRUCAO,\n",
    "        DT_NASCIMENTO,\n",
    "        DS_CARGO,\n",
    "        DS_SIT_TOT_TURNO,\n",
    "        SQ_CANDIDATO\n",
    "    FROM\n",
    "        candidatos\n",
    "\"\"\")\n",
    "        \n",
    "df.show()"
   ],
   "id": "c86cad06b366f826",
   "outputs": [
    {
     "name": "stdout",
     "output_type": "stream",
     "text": [
      "+--------------------+--------------------+------------+---------+-----------+--------------------+-------------+-----------------+----------------+------------+\n",
      "|   NM_URNA_CANDIDATO|        NM_CANDIDATO|NR_CANDIDATO|DS_GENERO|DS_COR_RACA|   DS_GRAU_INSTRUCAO|DT_NASCIMENTO|         DS_CARGO|DS_SIT_TOT_TURNO|SQ_CANDIDATO|\n",
      "+--------------------+--------------------+------------+---------+-----------+--------------------+-------------+-----------------+----------------+------------+\n",
      "|         ANDRE ROCHA|ANDRE PEREIRA DA ...|       22007|MASCULINO|      PARDA|   SUPERIOR COMPLETO|   30/05/1977|DEPUTADO ESTADUAL|        SUPLENTE|140001601783|\n",
      "|                ZEZO|JOSE FRANCISCO FE...|       44114|MASCULINO|     BRANCA|ENSINO MÉDIO COMP...|   02/04/1953|DEPUTADO ESTADUAL|        SUPLENTE|210001601914|\n",
      "|        TIAGO FARIAS|TIAGO DA COSTA FA...|         364|MASCULINO|      PARDA|   SUPERIOR COMPLETO|   20/01/1985|      1º SUPLENTE|      NÃO ELEITO| 10001606584|\n",
      "|       DELEGADO OLIM|ANTONIO ASSUNÇÃO ...|       11777|MASCULINO|     BRANCA|   SUPERIOR COMPLETO|   11/09/1958|DEPUTADO ESTADUAL|   ELEITO POR QP|250001612298|\n",
      "|       SUELLEN ELIZA|SUELLEN ELIZA ARA...|        3319| FEMININO|     BRANCA|ENSINO MÉDIO COMP...|   07/04/1990| DEPUTADO FEDERAL|      NÃO ELEITO|160001716194|\n",
      "|      ANA CAMPAGNOLO|ANA CAROLINE CAMP...|       22822| FEMININO|     BRANCA|   SUPERIOR COMPLETO|   26/11/1990|DEPUTADO ESTADUAL|   ELEITO POR QP|240001614348|\n",
      "|      RODRIGO FARIAS|RODRIGO FARIAS DA...|       36543|MASCULINO|     BRANCA| SUPERIOR INCOMPLETO|   30/08/1982|DEPUTADO ESTADUAL|        SUPLENTE|190001716421|\n",
      "|     RONALDO TAVARES|RONALDO TAVARES D...|          50|MASCULINO|     BRANCA|ENSINO FUNDAMENTA...|   02/02/1971|  VICE-GOVERNADOR|      NÃO ELEITO|200001712603|\n",
      "|   ARMANDO SCHNEIDER|ARMANDO SCHNEIDER...|        2238|MASCULINO|     BRANCA|   SUPERIOR COMPLETO|   09/09/1990| DEPUTADO FEDERAL|        SUPLENTE|210001648572|\n",
      "|              PEDOCA|PEDRO HENRIQUE DA...|       40111|MASCULINO|      PRETA|   SUPERIOR COMPLETO|   29/08/1990|DEPUTADO ESTADUAL|      NÃO ELEITO| 20001621796|\n",
      "|ANDERSON SUL DO PARÁ|ANDERSON ALVES DE...|       44164|MASCULINO|      PARDA|ENSINO MÉDIO COMP...|   20/04/1978|DEPUTADO ESTADUAL|        SUPLENTE|140001611670|\n",
      "|              BARRÃO|LUCIANO DE OLIVEI...|        9067|MASCULINO|      PARDA|   SUPERIOR COMPLETO|   03/10/1971| DEPUTADO FEDERAL|          #NULO#| 50001714234|\n",
      "|       LUCIANO VIANA|LUCIANO DE SOUSA ...|       28303|MASCULINO|      PRETA|ENSINO FUNDAMENTA...|   10/12/1978|DEPUTADO ESTADUAL|      NÃO ELEITO|190001645282|\n",
      "|              PACOLA|ANDRE MARCOS DE A...|       20789|MASCULINO|     BRANCA|   SUPERIOR COMPLETO|   12/10/1966|DEPUTADO ESTADUAL|        SUPLENTE|250001643778|\n",
      "|     CARMEN FERREIRA|CARMEN DORISOLETE...|        1525| FEMININO|     BRANCA|   SUPERIOR COMPLETO|   18/01/1968| DEPUTADO FEDERAL|        SUPLENTE|210001647856|\n",
      "|EDNALDO BENEDITO ...|EDNALDO BENEDITO ...|       43022|MASCULINO|     BRANCA|ENSINO MÉDIO COMP...|   21/01/1974|DEPUTADO ESTADUAL|        SUPLENTE| 90001649516|\n",
      "|     GUSTAVO LACERDA|GUSTAVO VIANA LAC...|       20020|MASCULINO|     BRANCA|   SUPERIOR COMPLETO|   15/07/1972|DEPUTADO ESTADUAL|        SUPLENTE| 80001645497|\n",
      "|          THATY DUDA|TATIANA DE FREITA...|       19133| FEMININO|     BRANCA| SUPERIOR INCOMPLETO|   05/12/1977|DEPUTADO ESTADUAL|        SUPLENTE|250001610509|\n",
      "|   DELEGADA GRACIELA|GRACIELA DE LOURD...|       22888| FEMININO|     BRANCA|   SUPERIOR COMPLETO|   08/07/1964|DEPUTADO ESTADUAL|ELEITO POR MÉDIA|250001610201|\n",
      "|       HILDER MONÇÃO|EVILDO MONÇÃO DA ...|       77000|MASCULINO|      PARDA|   SUPERIOR COMPLETO|   19/06/1979|DEPUTADO ESTADUAL|        SUPLENTE|180001601321|\n",
      "+--------------------+--------------------+------------+---------+-----------+--------------------+-------------+-----------------+----------------+------------+\n",
      "only showing top 20 rows\n",
      "\n"
     ]
    }
   ],
   "execution_count": 13
  },
  {
   "metadata": {},
   "cell_type": "markdown",
   "source": "### Creating votes table",
   "id": "f4627650b95f5ee9"
  },
  {
   "metadata": {
    "ExecuteTime": {
     "end_time": "2024-11-06T04:13:12.827895Z",
     "start_time": "2024-11-06T04:13:12.770Z"
    }
   },
   "cell_type": "code",
   "source": [
    "parquet_dir = \"output/total_votes\"\n",
    "\n",
    "df = spark.read.parquet(parquet_dir)\n",
    "\n",
    "# Show the schema and a few rows of the DataFrame\n",
    "df.printSchema()"
   ],
   "id": "42b6cfa2dc581192",
   "outputs": [
    {
     "name": "stdout",
     "output_type": "stream",
     "text": [
      "root\n",
      " |-- NM_VOTAVEL: string (nullable = true)\n",
      " |-- NR_VOTAVEL: long (nullable = true)\n",
      " |-- DS_CARGO_PERGUNTA: string (nullable = true)\n",
      " |-- TOTAL_VOTES: long (nullable = true)\n",
      "\n"
     ]
    }
   ],
   "execution_count": 14
  },
  {
   "metadata": {
    "ExecuteTime": {
     "end_time": "2024-11-06T04:13:12.908937Z",
     "start_time": "2024-11-06T04:13:12.847636Z"
    }
   },
   "cell_type": "code",
   "source": "df.show()",
   "id": "4b29d2ce80e62d63",
   "outputs": [
    {
     "name": "stdout",
     "output_type": "stream",
     "text": [
      "+--------------------+----------+-----------------+-----------+\n",
      "|          NM_VOTAVEL|NR_VOTAVEL|DS_CARGO_PERGUNTA|TOTAL_VOTES|\n",
      "+--------------------+----------+-----------------+-----------+\n",
      "|            CLOVINHO|      5189| Deputado Federal|       2097|\n",
      "|   ESTELINHA DO CIEP|     12008|Deputado Estadual|        572|\n",
      "|    MAURÍCIO BATISTA|     44623|Deputado Estadual|       2671|\n",
      "|       RICARDO TINHA|     36061|Deputado Estadual|        567|\n",
      "|        ROSE CAIÇARA|     33422|Deputado Estadual|         36|\n",
      "|        CABO WELITON|     35762|Deputado Estadual|        541|\n",
      "|   GILBERTO SALARINI|      1520| Deputado Federal|        884|\n",
      "|     MÁRCIO ARCHANJO|     22399|Deputado Estadual|        253|\n",
      "|DELEGADO ALEXANDR...|      4007| Deputado Federal|      16204|\n",
      "|     BETE DA PHOENIX|     28789|Deputado Estadual|        308|\n",
      "|     RIBAMAR DADINHO|     13040|Deputado Estadual|       1264|\n",
      "|FREDERICO BARBOSA...|     77040|Deputado Estadual|      28592|\n",
      "|      GUILHERME MEME|     10505|Deputado Estadual|         70|\n",
      "|        NOEMIA ROCHA|     15007|Deputado Estadual|      13097|\n",
      "| FELIPE BRAGA CORTES|      5550| Deputado Federal|       8059|\n",
      "|      EDILENE PAIXÃO|     14052|Deputado Estadual|        134|\n",
      "|      MARCIO PEIXOTO|     15600|Deputado Estadual|        316|\n",
      "|     LUCIANA ALMEIDA|      2033| Deputado Federal|        524|\n",
      "|  REINALDO VIGILANTE|     11567|Deputado Estadual|        103|\n",
      "|   FRANCISCO MOREIRA|     77111|Deputado Estadual|        601|\n",
      "+--------------------+----------+-----------------+-----------+\n",
      "only showing top 20 rows\n",
      "\n"
     ]
    }
   ],
   "execution_count": 15
  },
  {
   "metadata": {
    "ExecuteTime": {
     "end_time": "2024-11-06T04:13:12.929050Z",
     "start_time": "2024-11-06T04:13:12.920430Z"
    }
   },
   "cell_type": "code",
   "source": "df.createOrReplaceTempView(\"votos\")",
   "id": "b38506ae12f8c203",
   "outputs": [],
   "execution_count": 16
  },
  {
   "metadata": {
    "ExecuteTime": {
     "end_time": "2024-11-06T04:13:13.027685Z",
     "start_time": "2024-11-06T04:13:12.957182Z"
    }
   },
   "cell_type": "code",
   "source": [
    "test_df = spark.sql(\"\"\"\n",
    "    SELECT\n",
    "        *\n",
    "    FROM votos\n",
    "\"\"\")\n",
    "test_df.sort(col(\"TOTAL_VOTES\").desc()).show()"
   ],
   "id": "f4d288eca0c35d8b",
   "outputs": [
    {
     "name": "stdout",
     "output_type": "stream",
     "text": [
      "+--------------------+----------+-----------------+-----------+\n",
      "|          NM_VOTAVEL|NR_VOTAVEL|DS_CARGO_PERGUNTA|TOTAL_VOTES|\n",
      "+--------------------+----------+-----------------+-----------+\n",
      "|                LULA|        13|       Presidente|   57259504|\n",
      "|      JAIR BOLSONARO|        22|       Presidente|   51072345|\n",
      "|ASTRONAUTA MARCOS...|       222|          Senador|   10714913|\n",
      "|            TARCÍSIO|        10|       Governador|    9881995|\n",
      "|     FERNANDO HADDAD|        13|       Governador|    8337139|\n",
      "|       MÁRCIO FRANÇA|       400|          Senador|    7822518|\n",
      "|                ZEMA|        30|       Governador|    6094136|\n",
      "|      CLÁUDIO CASTRO|        22|       Governador|    4930288|\n",
      "|        SIMONE TEBET|        15|       Presidente|    4915423|\n",
      "|      RODRIGO GARCIA|        45|       Governador|    4296293|\n",
      "|           CLEITINHO|       200|          Senador|    4268193|\n",
      "|CARLOS MASSA RATI...|        55|       Governador|    4243292|\n",
      "|        OTTO ALENCAR|       555|          Senador|    4218333|\n",
      "|            JERÔNIMO|        13|       Governador|    4019830|\n",
      "|               KALIL|        55|       Governador|    3805182|\n",
      "|  ALEXANDRE SILVEIRA|       555|          Senador|    3679392|\n",
      "|          CIRO GOMES|        12|       Presidente|    3599287|\n",
      "|              CAMILO|       131|          Senador|    3389513|\n",
      "|            ACM NETO|        44|       Governador|    3316711|\n",
      "|              HELDER|        15|       Governador|    3117276|\n",
      "+--------------------+----------+-----------------+-----------+\n",
      "only showing top 20 rows\n",
      "\n"
     ]
    }
   ],
   "execution_count": 17
  },
  {
   "metadata": {},
   "cell_type": "markdown",
   "source": "### Creating the expenses table",
   "id": "9c6e8315b29a65a0"
  },
  {
   "metadata": {
    "ExecuteTime": {
     "end_time": "2024-11-06T04:13:13.134302Z",
     "start_time": "2024-11-06T04:13:13.039167Z"
    }
   },
   "cell_type": "code",
   "source": [
    "parquet_dir = \"datasets/prestacao_contas_2022\"\n",
    "despesas_contratadas_df = spark.read.option(\"pathGlobFilter\", \"despesas_contratadas_candidatos_*\").option(\"delimiter\", \";\").parquet(parquet_dir)\n",
    "\n",
    "despesas_contratadas_df = despesas_contratadas_df.withColumn(\"VR_DESPESA_CONTRATADA\", regexp_replace(col(\"VR_DESPESA_CONTRATADA\"), \",\", \".\").cast(\"float\"))\n",
    "\n",
    "despesas_contratadas_df.createOrReplaceTempView(\"despesas_contratadas\")\n",
    "despesas_contratadas_df.printSchema()"
   ],
   "id": "49b7293ebe30b0f4",
   "outputs": [
    {
     "name": "stdout",
     "output_type": "stream",
     "text": [
      "root\n",
      " |-- DT_GERACAO: string (nullable = true)\n",
      " |-- HH_GERACAO: string (nullable = true)\n",
      " |-- ANO_ELEICAO: long (nullable = true)\n",
      " |-- CD_TIPO_ELEICAO: long (nullable = true)\n",
      " |-- NM_TIPO_ELEICAO: string (nullable = true)\n",
      " |-- CD_ELEICAO: long (nullable = true)\n",
      " |-- DS_ELEICAO: string (nullable = true)\n",
      " |-- DT_ELEICAO: string (nullable = true)\n",
      " |-- ST_TURNO: long (nullable = true)\n",
      " |-- TP_PRESTACAO_CONTAS: string (nullable = true)\n",
      " |-- DT_PRESTACAO_CONTAS: string (nullable = true)\n",
      " |-- SQ_PRESTADOR_CONTAS: long (nullable = true)\n",
      " |-- SG_UF: string (nullable = true)\n",
      " |-- SG_UE: string (nullable = true)\n",
      " |-- NM_UE: string (nullable = true)\n",
      " |-- NR_CNPJ_PRESTADOR_CONTA: long (nullable = true)\n",
      " |-- CD_CARGO: long (nullable = true)\n",
      " |-- DS_CARGO: string (nullable = true)\n",
      " |-- SQ_CANDIDATO: long (nullable = true)\n",
      " |-- NR_CANDIDATO: long (nullable = true)\n",
      " |-- NM_CANDIDATO: string (nullable = true)\n",
      " |-- NR_CPF_CANDIDATO: long (nullable = true)\n",
      " |-- NR_CPF_VICE_CANDIDATO: long (nullable = true)\n",
      " |-- NR_PARTIDO: long (nullable = true)\n",
      " |-- SG_PARTIDO: string (nullable = true)\n",
      " |-- NM_PARTIDO: string (nullable = true)\n",
      " |-- CD_TIPO_FORNECEDOR: long (nullable = true)\n",
      " |-- DS_TIPO_FORNECEDOR: string (nullable = true)\n",
      " |-- CD_CNAE_FORNECEDOR: long (nullable = true)\n",
      " |-- DS_CNAE_FORNECEDOR: string (nullable = true)\n",
      " |-- NR_CPF_CNPJ_FORNECEDOR: long (nullable = true)\n",
      " |-- NM_FORNECEDOR: string (nullable = true)\n",
      " |-- NM_FORNECEDOR_RFB: string (nullable = true)\n",
      " |-- CD_ESFERA_PART_FORNECEDOR: long (nullable = true)\n",
      " |-- DS_ESFERA_PART_FORNECEDOR: string (nullable = true)\n",
      " |-- SG_UF_FORNECEDOR: string (nullable = true)\n",
      " |-- CD_MUNICIPIO_FORNECEDOR: long (nullable = true)\n",
      " |-- NM_MUNICIPIO_FORNECEDOR: string (nullable = true)\n",
      " |-- SQ_CANDIDATO_FORNECEDOR: long (nullable = true)\n",
      " |-- NR_CANDIDATO_FORNECEDOR: long (nullable = true)\n",
      " |-- CD_CARGO_FORNECEDOR: long (nullable = true)\n",
      " |-- DS_CARGO_FORNECEDOR: string (nullable = true)\n",
      " |-- NR_PARTIDO_FORNECEDOR: long (nullable = true)\n",
      " |-- SG_PARTIDO_FORNECEDOR: string (nullable = true)\n",
      " |-- NM_PARTIDO_FORNECEDOR: string (nullable = true)\n",
      " |-- DS_TIPO_DOCUMENTO: string (nullable = true)\n",
      " |-- NR_DOCUMENTO: string (nullable = true)\n",
      " |-- CD_ORIGEM_DESPESA: long (nullable = true)\n",
      " |-- DS_ORIGEM_DESPESA: string (nullable = true)\n",
      " |-- SQ_DESPESA: long (nullable = true)\n",
      " |-- DT_DESPESA: string (nullable = true)\n",
      " |-- DS_DESPESA: string (nullable = true)\n",
      " |-- VR_DESPESA_CONTRATADA: float (nullable = true)\n",
      "\n"
     ]
    }
   ],
   "execution_count": 18
  },
  {
   "metadata": {
    "ExecuteTime": {
     "end_time": "2024-11-06T04:13:14.246380Z",
     "start_time": "2024-11-06T04:13:13.143154Z"
    }
   },
   "cell_type": "code",
   "source": "despesas_contratadas_df.show()",
   "id": "feb28c117fe23f6c",
   "outputs": [
    {
     "name": "stderr",
     "output_type": "stream",
     "text": [
      "[Stage 39:>                                                         (0 + 1) / 1]\r"
     ]
    },
    {
     "name": "stdout",
     "output_type": "stream",
     "text": [
      "+----------+----------+-----------+---------------+---------------+----------+--------------------+----------+--------+-------------------+-------------------+-------------------+-----+-----+-----+-----------------------+--------+-----------------+------------+------------+--------------------+----------------+---------------------+----------+----------+--------------------+------------------+------------------+------------------+------------------+----------------------+--------------------+--------------------+-------------------------+-------------------------+----------------+-----------------------+-----------------------+-----------------------+-----------------------+-------------------+-------------------+---------------------+---------------------+---------------------+-----------------+------------+-----------------+--------------------+----------+----------+--------------------+---------------------+\n",
      "|DT_GERACAO|HH_GERACAO|ANO_ELEICAO|CD_TIPO_ELEICAO|NM_TIPO_ELEICAO|CD_ELEICAO|          DS_ELEICAO|DT_ELEICAO|ST_TURNO|TP_PRESTACAO_CONTAS|DT_PRESTACAO_CONTAS|SQ_PRESTADOR_CONTAS|SG_UF|SG_UE|NM_UE|NR_CNPJ_PRESTADOR_CONTA|CD_CARGO|         DS_CARGO|SQ_CANDIDATO|NR_CANDIDATO|        NM_CANDIDATO|NR_CPF_CANDIDATO|NR_CPF_VICE_CANDIDATO|NR_PARTIDO|SG_PARTIDO|          NM_PARTIDO|CD_TIPO_FORNECEDOR|DS_TIPO_FORNECEDOR|CD_CNAE_FORNECEDOR|DS_CNAE_FORNECEDOR|NR_CPF_CNPJ_FORNECEDOR|       NM_FORNECEDOR|   NM_FORNECEDOR_RFB|CD_ESFERA_PART_FORNECEDOR|DS_ESFERA_PART_FORNECEDOR|SG_UF_FORNECEDOR|CD_MUNICIPIO_FORNECEDOR|NM_MUNICIPIO_FORNECEDOR|SQ_CANDIDATO_FORNECEDOR|NR_CANDIDATO_FORNECEDOR|CD_CARGO_FORNECEDOR|DS_CARGO_FORNECEDOR|NR_PARTIDO_FORNECEDOR|SG_PARTIDO_FORNECEDOR|NM_PARTIDO_FORNECEDOR|DS_TIPO_DOCUMENTO|NR_DOCUMENTO|CD_ORIGEM_DESPESA|   DS_ORIGEM_DESPESA|SQ_DESPESA|DT_DESPESA|          DS_DESPESA|VR_DESPESA_CONTRATADA|\n",
      "+----------+----------+-----------+---------------+---------------+----------+--------------------+----------+--------+-------------------+-------------------+-------------------+-----+-----+-----+-----------------------+--------+-----------------+------------+------------+--------------------+----------------+---------------------+----------+----------+--------------------+------------------+------------------+------------------+------------------+----------------------+--------------------+--------------------+-------------------------+-------------------------+----------------+-----------------------+-----------------------+-----------------------+-----------------------+-------------------+-------------------+---------------------+---------------------+---------------------+-----------------+------------+-----------------+--------------------+----------+----------+--------------------+---------------------+\n",
      "|20/10/2024|  01:02:17|       2022|              2|      Ordinária|       546|Eleições Gerais E...|02/10/2022|       1|              Final|         02/11/2022|         3783868250|   AC|   AC| ACRE|         47493579000135|       6| Deputado Federal| 10001613550|        1331|LEONARDO CUNHA DE...|     63182246291|                   -1|        13|        PT|Partido dos Traba...|                 0|     PESSOA FÍSICA|                -1|             #NULO|             945779275|ROMERIO DO NASCIM...|ROMERIO DO NASCIM...|                       -1|                    #NULO|          #NULO#|                     -1|                 #NULO#|                     -1|                     -1|                 -1|              #NULO|                   -1|                #NULO|                #NULO|            Outro|          96|         20800000|Atividades de mil...|  50076235|19/08/2022|MILITÂNCIA E MOBI...|               1000.0|\n",
      "|20/10/2024|  01:02:17|       2022|              2|      Ordinária|       546|Eleições Gerais E...|02/10/2022|       1|              Final|         02/11/2022|         3783868250|   AC|   AC| ACRE|         47493579000135|       6| Deputado Federal| 10001613550|        1331|LEONARDO CUNHA DE...|     63182246291|                   -1|        13|        PT|Partido dos Traba...|                 0|     PESSOA FÍSICA|                -1|             #NULO|             945779275|ROMERIO DO NASCIM...|ROMERIO DO NASCIM...|                       -1|                    #NULO|          #NULO#|                     -1|                 #NULO#|                     -1|                     -1|                 -1|              #NULO|                   -1|                #NULO|                #NULO|            Outro|         096|         20800000|Atividades de mil...|  50076558|19/08/2022|MILITÂNCIA E MOBI...|               1000.0|\n",
      "|20/10/2024|  01:02:17|       2022|              2|      Ordinária|       546|Eleições Gerais E...|02/10/2022|       1|              Final|         18/11/2022|         3794801633|   AC|   AC| ACRE|         47546939000110|       7|Deputado Estadual| 10001643440|       11234|MANOEL MORAES DE ...|     13849620263|                   -1|        11|        PP|       PROGRESSISTAS|                 0|     PESSOA FÍSICA|                -1|             #NULO|            4583092229|EMENSON FERREIRA ...|EMENSON FERREIRA ...|                       -1|                    #NULO|          #NULO#|                     -1|                 #NULO#|                     -1|                     -1|                 -1|              #NULO|                   -1|                #NULO|                #NULO|            Outro|         030|         20120000|Serviços prestado...|  50779089|12/09/2022|PRESTAÇÃO DE SERV...|                606.1|\n",
      "|20/10/2024|  01:02:17|       2022|              2|      Ordinária|       546|Eleições Gerais E...|02/10/2022|       1|              Final|         15/12/2022|         3793673039|   AC|   AC| ACRE|         47536505000139|       7|Deputado Estadual| 10001642321|       15015|FRANCISCA SILVA D...|     43370233215|                   -1|        15|       MDB|Movimento Democrá...|                 0|     PESSOA FÍSICA|                -1|             #NULO|           90957385234|RICARDO DAMAZIO D...|RICARDO DAMAZIO D...|                       -1|                    #NULO|          #NULO#|                     -1|                 #NULO#|                     -1|                     -1|                 -1|              #NULO|                   -1|                #NULO|                #NULO|            Outro|          sn|         20800000|Atividades de mil...|  51350885|01/09/2022|PRESTAÇÃO DE SERV...|               1820.0|\n",
      "|20/10/2024|  01:02:17|       2022|              2|      Ordinária|       546|Eleições Gerais E...|02/10/2022|       1|              Final|         06/07/2023|         3785018974|   AC|   AC| ACRE|         47497212000190|       3|       Governador| 10001616169|          13|JORGE NEY VIANA M...|     96980486853|          26470398871|        13|        PT|Partido dos Traba...|                 0|     PESSOA FÍSICA|                -1|             #NULO|           97152625115|AGEL ATILA PINHEI...|AGEL ATILA PINHEI...|                       -1|                    #NULO|          #NULO#|                     -1|                 #NULO#|                     -1|                     -1|                 -1|              #NULO|                   -1|                #NULO|                #NULO|            Outro|           8|         20600000|Cessão ou locação...|  51900181|17/08/2022|LOCAÇÃO DE VEICUL...|              16000.0|\n",
      "|20/10/2024|  01:02:17|       2022|              2|      Ordinária|       546|Eleições Gerais E...|02/10/2022|       1|              Final|         24/11/2022|         3790199175|   AC|   AC| ACRE|         47518161000135|       7|Deputado Estadual| 10001623552|       44555|WHENDY S PRAXEDES...|     51716887291|                   -1|        44|     UNIÃO|        UNIÃO BRASIL|                 0|     PESSOA FÍSICA|                -1|             #NULO|           97152625115|AGEL ATILA PINHEI...|AGEL ATILA PINHEI...|                       -1|                    #NULO|          #NULO#|                     -1|                 #NULO#|                     -1|                     -1|                 -1|              #NULO|                   -1|                #NULO|                #NULO|            Outro|          01|         20600000|Cessão ou locação...|  51020676|29/08/2022|LOCAÇÃO DE FIAT D...|              18000.0|\n",
      "|20/10/2024|  01:02:17|       2022|              2|      Ordinária|       546|Eleições Gerais E...|02/10/2022|       1|              Final|         01/11/2022|         3794801422|   AC|   AC| ACRE|         47547638000100|       7|Deputado Estadual| 10001643326|       40999|AUGUSTO HENRIQUE ...|     46590641234|                   -1|        40|       PSB|Partido Socialist...|                 0|     PESSOA FÍSICA|                -1|             #NULO|           43486495291|ADRIEL ANDRADE DA...|ADRIEL ANDRADE DA...|                       -1|                    #NULO|          #NULO#|                     -1|                 #NULO#|                     -1|                     -1|                 -1|              #NULO|                   -1|                #NULO|                #NULO|            Outro|           7|         20800000|Atividades de mil...|  49899366|01/09/2022|  MOBILIZAÇÃO DE RUA|               1212.0|\n",
      "|20/10/2024|  01:02:17|       2022|              2|      Ordinária|       546|Eleições Gerais E...|02/10/2022|       1|              Final|         28/10/2022|         3780998608|   AC|   AC| ACRE|         47474583000156|       6| Deputado Federal| 10001612488|        4444|FABIO GONÇALVES D...|      2539052495|                   -1|        44|     UNIÃO|        UNIÃO BRASIL|                 0|     PESSOA FÍSICA|                -1|             #NULO|           70483031232|GEISSIANE DIAS BA...|GEISSIANE DIAS BA...|                       -1|                    #NULO|          #NULO#|                     -1|                 #NULO#|                     -1|                     -1|                 -1|              #NULO|                   -1|                #NULO|                #NULO|            Outro|         138|         20800000|Atividades de mil...|  48049928|01/09/2022|ATIV.DE MILITAN.P...|               1000.0|\n",
      "|20/10/2024|  01:02:17|       2022|              2|      Ordinária|       546|Eleições Gerais E...|02/10/2022|       1|              Final|         26/06/2023|         3795991644|   AC|   AC| ACRE|         47551808000120|       6| Deputado Federal| 10001649411|        4040|THOR OLIVEIRA DANTAS|      1681741709|                   -1|        40|       PSB|Partido Socialist...|                 0|     PESSOA FÍSICA|                -1|             #NULO|            7853730209|      GIGLIANE NUNES|      GIGLIANE NUNES|                       -1|                    #NULO|          #NULO#|                     -1|                 #NULO#|                     -1|                     -1|                 -1|              #NULO|                   -1|                #NULO|                #NULO|            Outro|         030|         20800000|Atividades de mil...|  51863258|29/08/2022|  MOBILIZAÇÃO DE RUA|                800.0|\n",
      "|20/10/2024|  01:02:17|       2022|              2|      Ordinária|       546|Eleições Gerais E...|02/10/2022|       1|              Final|         28/10/2022|         3780998608|   AC|   AC| ACRE|         47474583000156|       6| Deputado Federal| 10001612488|        4444|FABIO GONÇALVES D...|      2539052495|                   -1|        44|     UNIÃO|        UNIÃO BRASIL|                 0|     PESSOA FÍSICA|                -1|             #NULO|            7499825272|MARIA DO PERPETUO...|MARIA DO PERPETUO...|                       -1|                    #NULO|          #NULO#|                     -1|                 #NULO#|                     -1|                     -1|                 -1|              #NULO|                   -1|                #NULO|                #NULO|            Outro|          46|         20600000|Cessão ou locação...|  48049903|26/08/2022|     VW GOL ANO 2021|               5000.0|\n",
      "|20/10/2024|  01:02:17|       2022|              2|      Ordinária|       546|Eleições Gerais E...|02/10/2022|       1|              Final|         28/10/2022|         3780998608|   AC|   AC| ACRE|         47474583000156|       6| Deputado Federal| 10001612488|        4444|FABIO GONÇALVES D...|      2539052495|                   -1|        44|     UNIÃO|        UNIÃO BRASIL|                 0|     PESSOA FÍSICA|                -1|             #NULO|            4155369281|FERNANDO MORAIS S...|FERNANDO MORAIS S...|                       -1|                    #NULO|          #NULO#|                     -1|                 #NULO#|                     -1|                     -1|                 -1|              #NULO|                   -1|                #NULO|                #NULO|            Outro|         332|         20800000|Atividades de mil...|  48049895|25/08/2022|ATIV.DE MILITAN.P...|               1000.0|\n",
      "|20/10/2024|  01:02:17|       2022|              2|      Ordinária|       546|Eleições Gerais E...|02/10/2022|       1|              Final|         18/10/2022|         3758119869|   AC|   AC| ACRE|         47386548000185|       6| Deputado Federal| 10001601532|        5555|SIRLENE OLIVEIRA ...|     57613494691|                   -1|        55|       PSD|Partido Social De...|                 0|     PESSOA FÍSICA|                -1|             #NULO|             440735262|ADRIANA SILVA DE ...|ADRIANA SILVA DE ...|                       -1|                    #NULO|          #NULO#|                     -1|                 #NULO#|                     -1|                     -1|                 -1|              #NULO|                   -1|                #NULO|                #NULO|            Outro|         003|         20800000|Atividades de mil...|  46823617|31/08/2022|CONTRATO DE PREST...|                606.0|\n",
      "|20/10/2024|  01:02:17|       2022|              2|      Ordinária|       546|Eleições Gerais E...|02/10/2022|       1|              Final|         21/11/2022|         3780998777|   AC|   AC| ACRE|         47529041000133|       3|       Governador| 10001612476|          11|GLADSON DE LIMA C...|     43461107204|          61280178272|        11|        PP|       PROGRESSISTAS|                 0|     PESSOA FÍSICA|                -1|             #NULO|           34014659291|VIVIANE RODRIGUES...|VIVIANE RODRIGUES...|                       -1|                    #NULO|          #NULO#|                     -1|                 #NULO#|                     -1|                     -1|                 -1|              #NULO|                   -1|                #NULO|                #NULO|            Outro|          SN|         20800000|Atividades de mil...|  50896046|01/09/2022|REF.PREST.SERV. D...|                800.0|\n",
      "|20/10/2024|  01:02:17|       2022|              2|      Ordinária|       546|Eleições Gerais E...|02/10/2022|       1|              Final|         28/10/2022|         3780998608|   AC|   AC| ACRE|         47474583000156|       6| Deputado Federal| 10001612488|        4444|FABIO GONÇALVES D...|      2539052495|                   -1|        44|     UNIÃO|        UNIÃO BRASIL|                 0|     PESSOA FÍSICA|                -1|             #NULO|            8469137204|MARCELO XAVIER DE...|MARCELO XAVIER DE...|                       -1|                    #NULO|          #NULO#|                     -1|                 #NULO#|                     -1|                     -1|                 -1|              #NULO|                   -1|                #NULO|                #NULO|            Outro|         260|         20800000|Atividades de mil...|  48049914|01/09/2022|ATIV.DE MILITAN.P...|               1000.0|\n",
      "|20/10/2024|  01:02:17|       2022|              2|      Ordinária|       546|Eleições Gerais E...|02/10/2022|       1|              Final|         21/11/2022|         3780998777|   AC|   AC| ACRE|         47529041000133|       3|       Governador| 10001612476|          11|GLADSON DE LIMA C...|     43461107204|          61280178272|        11|        PP|       PROGRESSISTAS|                 0|     PESSOA FÍSICA|                -1|             #NULO|            5182469225|KEILA DA SILVA JA...|KEILA DA SILVA JA...|                       -1|                    #NULO|          #NULO#|                     -1|                 #NULO#|                     -1|                     -1|                 -1|              #NULO|                   -1|                #NULO|                #NULO|            Outro|          SN|         20800000|Atividades de mil...|  50896468|01/09/2022|REF.PREST.SERV. D...|                800.0|\n",
      "|20/10/2024|  01:02:17|       2022|              2|      Ordinária|       546|Eleições Gerais E...|02/10/2022|       1|              Final|         02/11/2022|         3783868250|   AC|   AC| ACRE|         47493579000135|       6| Deputado Federal| 10001613550|        1331|LEONARDO CUNHA DE...|     63182246291|                   -1|        13|        PT|Partido dos Traba...|                 0|     PESSOA FÍSICA|                -1|             #NULO|           69204853204|JOSELI FERREIRA M...|JOCELI FERREIRA M...|                       -1|                    #NULO|          #NULO#|                     -1|                 #NULO#|                     -1|                     -1|                 -1|              #NULO|                   -1|                #NULO|                #NULO|            Outro|         088|         20600000|Cessão ou locação...|  50076660|19/08/2022|HONDA/BIZ 125·NA ...|               2000.0|\n",
      "|20/10/2024|  01:02:17|       2022|              2|      Ordinária|       546|Eleições Gerais E...|02/10/2022|       1|              Final|         28/10/2022|         3758121398|   AC|   AC| ACRE|         47386559000165|       7|Deputado Estadual| 10001601438|       55223|JOCIRLENE BARBOSA...|     61665282215|                   -1|        55|       PSD|Partido Social De...|                 0|     PESSOA FÍSICA|                -1|             #NULO|           12890669220|MARIA DE FATIMA D...|MARIA DE FATIMA D...|                       -1|                    #NULO|          #NULO#|                     -1|                 #NULO#|                     -1|                     -1|                 -1|              #NULO|                   -1|                #NULO|                #NULO|            Outro|          01|         20600000|Cessão ou locação...|  48049726|16/08/2022|LOCAÇÃO VEICULO F...|               3000.0|\n",
      "|20/10/2024|  01:02:17|       2022|              2|      Ordinária|       546|Eleições Gerais E...|02/10/2022|       1|              Final|         10/10/2023|         3792516051|   AC|   AC| ACRE|         47533788000165|       3|       Governador| 10001639519|          15|CYLMARA FERNANDES...|     41186273291|           8026872886|        15|       MDB|Movimento Democrá...|                 0|     PESSOA FÍSICA|                -1|             #NULO|           96873825204|DIEGO ARAÚJO DA S...|DIEGO ARAUJO DA S...|                       -1|                    #NULO|          #NULO#|                     -1|                 #NULO#|                     -1|                     -1|                 -1|              #NULO|                   -1|                #NULO|                #NULO|            Outro|          SN|         20800000|Atividades de mil...|  52127993|18/08/2022|SERVIÇO DE PESSOA...|               1857.0|\n",
      "|20/10/2024|  01:02:17|       2022|              2|      Ordinária|       546|Eleições Gerais E...|02/10/2022|       1|              Final|         01/11/2022|         3790198529|   AC|   AC| ACRE|         47518254000160|       7|Deputado Estadual| 10001622765|       12300|ADERLÂNDIO NASCIM...|     62761463234|                   -1|        12|       PDT|Partido Democráti...|                 0|     PESSOA FÍSICA|                -1|             #NULO|           70337166218|ELIAMARA BERLARMI...|ELIAMARA BERLARMI...|                       -1|                    #NULO|          #NULO#|                     -1|                 #NULO#|                     -1|                     -1|                 -1|              #NULO|                   -1|                #NULO|                #NULO|            Outro|          08|         20800000|Atividades de mil...|  49580055|01/09/2022|PANFL BANDEIRAÇO ...|               1212.0|\n",
      "|20/10/2024|  01:02:17|       2022|              2|      Ordinária|       546|Eleições Gerais E...|02/10/2022|       1|              Final|         18/07/2023|         3794801898|   AC|   AC| ACRE|         47547312000183|       5|          Senador| 10001643706|         222|MARCIA ESPINOSA B...|     31222285134|          12951390220|        22|        PL|     Partido Liberal|                 0|     PESSOA FÍSICA|                -1|             #NULO|            3506396200|ARINELSON DE SOUZ...|ARINELSON DE SOUZ...|                       -1|                    #NULO|          #NULO#|                     -1|                 #NULO#|                     -1|                     -1|                 -1|              #NULO|                   -1|                #NULO|                #NULO|            Outro|         105|         20800000|Atividades de mil...|  51928110|09/09/2022|PANFLETAGEM·BANDE...|               1400.0|\n",
      "+----------+----------+-----------+---------------+---------------+----------+--------------------+----------+--------+-------------------+-------------------+-------------------+-----+-----+-----+-----------------------+--------+-----------------+------------+------------+--------------------+----------------+---------------------+----------+----------+--------------------+------------------+------------------+------------------+------------------+----------------------+--------------------+--------------------+-------------------------+-------------------------+----------------+-----------------------+-----------------------+-----------------------+-----------------------+-------------------+-------------------+---------------------+---------------------+---------------------+-----------------+------------+-----------------+--------------------+----------+----------+--------------------+---------------------+\n",
      "only showing top 20 rows\n",
      "\n"
     ]
    },
    {
     "name": "stderr",
     "output_type": "stream",
     "text": [
      "                                                                                \r"
     ]
    }
   ],
   "execution_count": 19
  },
  {
   "metadata": {
    "ExecuteTime": {
     "end_time": "2024-11-06T04:13:14.418226Z",
     "start_time": "2024-11-06T04:13:14.309469Z"
    }
   },
   "cell_type": "code",
   "source": [
    "parquet_dir = \"datasets/prestacao_contas_2022\"\n",
    "despesas_pagas_df = spark.read.option(\"pathGlobFilter\", \"despesas_pagas_candidatos_*\").option(\"delimiter\", \";\").parquet(parquet_dir)\n",
    "\n",
    "despesas_pagas_df = despesas_pagas_df.withColumn(\"VR_PAGTO_DESPESA\", regexp_replace(col(\"VR_PAGTO_DESPESA\"), \",\", \".\").cast(\"float\"))\n",
    "\n",
    "despesas_pagas_df.createOrReplaceTempView(\"despesas_pagas\")"
   ],
   "id": "41f79ce79e896d97",
   "outputs": [],
   "execution_count": 20
  },
  {
   "metadata": {
    "ExecuteTime": {
     "end_time": "2024-11-06T04:13:14.991581Z",
     "start_time": "2024-11-06T04:13:14.443397Z"
    }
   },
   "cell_type": "code",
   "source": "despesas_pagas_df.show()",
   "id": "6f3044295721ba2e",
   "outputs": [
    {
     "name": "stdout",
     "output_type": "stream",
     "text": [
      "+----------+----------+-----------+---------------+---------------+----------+--------------------+----------+--------+-------------------+-------------------+-------------------+-----+-----------------+---------------+----------------+--------------------+-----------------+--------------------+-------------------+-------------------+------------------+--------------------+----------+-----------------------+----------------+--------------------+----------------+\n",
      "|DT_GERACAO|HH_GERACAO|ANO_ELEICAO|CD_TIPO_ELEICAO|NM_TIPO_ELEICAO|CD_ELEICAO|          DS_ELEICAO|DT_ELEICAO|ST_TURNO|TP_PRESTACAO_CONTAS|DT_PRESTACAO_CONTAS|SQ_PRESTADOR_CONTAS|SG_UF|DS_TIPO_DOCUMENTO|   NR_DOCUMENTO|CD_FONTE_DESPESA|    DS_FONTE_DESPESA|CD_ORIGEM_DESPESA|   DS_ORIGEM_DESPESA|CD_NATUREZA_DESPESA|DS_NATUREZA_DESPESA|CD_ESPECIE_RECURSO|  DS_ESPECIE_RECURSO|SQ_DESPESA|SQ_PARCELAMENTO_DESPESA|DT_PAGTO_DESPESA|          DS_DESPESA|VR_PAGTO_DESPESA|\n",
      "+----------+----------+-----------+---------------+---------------+----------+--------------------+----------+--------+-------------------+-------------------+-------------------+-----+-----------------+---------------+----------------+--------------------+-----------------+--------------------+-------------------+-------------------+------------------+--------------------+----------+-----------------------+----------------+--------------------+----------------+\n",
      "|20/10/2024|  01:00:55|       2022|              2|      Ordinária|       546|Eleições Gerais E...|02/10/2022|       1|              Final|         13/07/2023|         3780998626|   AC|            Outro|550071000077979|               2|Fundo Especial de...|         20220000|Produção de progr...|                  1|         Financeiro|                 1|Transferência ele...|  51917015|               38289615|      30/09/2022|MARKETING· TRAFEG...|         65000.0|\n",
      "|20/10/2024|  01:00:55|       2022|              2|      Ordinária|       546|Eleições Gerais E...|02/10/2022|       1|              Final|         13/07/2023|         3780998626|   AC|            Outro|550071000077979|               2|Fundo Especial de...|         20220000|Produção de progr...|                  1|         Financeiro|                 1|Transferência ele...|  51917015|               38289616|      09/09/2022|MARKETING· TRAFEG...|         80000.0|\n",
      "|20/10/2024|  01:00:55|       2022|              2|      Ordinária|       546|Eleições Gerais E...|02/10/2022|       1|              Final|         23/05/2023|         3727953296|   AC|            Outro|          #NULO|               2|Fundo Especial de...|         20220000|Produção de progr...|                  1|         Financeiro|                 8|     Débito em conta|  51789084|               38145496|      30/09/2022|PRESTAÇÃO DE SERV...|           600.0|\n",
      "|20/10/2024|  01:00:55|       2022|              2|      Ordinária|       546|Eleições Gerais E...|02/10/2022|       1|              Final|         30/06/2023|         3797150932|   AC|            Outro|     1631271411|               2|Fundo Especial de...|         20220000|Produção de progr...|                  1|         Financeiro|                 1|Transferência ele...|  51884207|               38251941|      13/09/2022|PRESTAÇÃO DE SERV...|          3000.0|\n",
      "|20/10/2024|  01:00:55|       2022|              2|      Ordinária|       546|Eleições Gerais E...|02/10/2022|       1|              Final|         08/12/2022|         3793673110|   AC|            Outro|          92301|               2|Fundo Especial de...|         20220000|Produção de progr...|                  1|         Financeiro|                19|                 PIX|  51269605|               37532874|      23/09/2022|PROD. DE VÍDEOS -...|          1600.0|\n",
      "|20/10/2024|  01:00:55|       2022|              2|      Ordinária|       546|Eleições Gerais E...|02/10/2022|       1|              Final|         08/12/2022|         3793673110|   AC|            Outro|          92601|               2|Fundo Especial de...|         20220000|Produção de progr...|                  1|         Financeiro|                19|                 PIX|  51269605|               37532875|      25/09/2022|PROD. DE VÍDEOS -...|           700.0|\n",
      "|20/10/2024|  01:00:55|       2022|              2|      Ordinária|       546|Eleições Gerais E...|02/10/2022|       1|              Final|         29/11/2022|         3794801514|   AC|            Outro|         090602|               2|Fundo Especial de...|         20220000|Produção de progr...|                  1|         Financeiro|                19|                 PIX|  51094879|               37313712|      06/09/2022|  ENSAIO FOTOGRAFICO|           200.0|\n",
      "|20/10/2024|  01:00:55|       2022|              2|      Ordinária|       546|Eleições Gerais E...|02/10/2022|       1|              Final|         29/11/2022|         3794801514|   AC|            Outro|         090502|               2|Fundo Especial de...|         20220000|Produção de progr...|                  1|         Financeiro|                19|                 PIX|  51094879|               37313713|      04/09/2022|  ENSAIO FOTOGRAFICO|           300.0|\n",
      "|20/10/2024|  01:00:55|       2022|              2|      Ordinária|       546|Eleições Gerais E...|02/10/2022|       1|              Final|         01/11/2022|         3790199464|   AC|            Outro|         850002|               2|Fundo Especial de...|         20220000|Produção de progr...|                  1|         Financeiro|                 0|              Cheque|  49680768|               35613988|      08/09/2022|SERVIÇOS DE CONSU...|         17500.0|\n",
      "|20/10/2024|  01:00:55|       2022|              2|      Ordinária|       546|Eleições Gerais E...|02/10/2022|       1|              Final|         30/06/2023|         3805294188|   AC|            Outro|         091601|               2|Fundo Especial de...|         20220000|Produção de progr...|                  1|         Financeiro|                 1|Transferência ele...|  51884357|               38252000|      16/09/2022|GERENCIAMENTO E D...|         35000.0|\n",
      "|20/10/2024|  01:00:55|       2022|              2|      Ordinária|       546|Eleições Gerais E...|02/10/2022|       1|              Final|         15/11/2022|         3790198622|   AC|      Nota Fiscal|         101401|               1|     Outros Recursos|         20220000|Produção de progr...|                  1|         Financeiro|                19|                 PIX|  50569493|               36687878|      14/10/2022|PREST. DE SERV. E...|         25000.0|\n",
      "|20/10/2024|  01:00:55|       2022|              2|      Ordinária|       546|Eleições Gerais E...|02/10/2022|       1|              Final|         01/11/2022|         3727953032|   AC|      Nota Fiscal|         850005|               2|Fundo Especial de...|         20220000|Produção de progr...|                  1|         Financeiro|                 0|              Cheque|  49024439|               34802092|      30/08/2022|PRODUÇÃO DE AUDIO...|         25000.0|\n",
      "|20/10/2024|  01:00:55|       2022|              2|      Ordinária|       546|Eleições Gerais E...|02/10/2022|       1|              Final|         17/11/2022|         3790199339|   AC|      Nota Fiscal|         091201|               2|Fundo Especial de...|         20220000|Produção de progr...|                  1|         Financeiro|                19|                 PIX|  50667560|               36799798|      12/09/2022|PRODUÇÃO DE VIDEO...|         20000.0|\n",
      "|20/10/2024|  01:00:55|       2022|              2|      Ordinária|       546|Eleições Gerais E...|02/10/2022|       1|              Final|         11/07/2023|         3795991629|   AC|      Nota Fiscal|              1|               0|    Fundo Partidário|         20220000|Produção de progr...|                  1|         Financeiro|                19|                 PIX|  51912086|               38284120|      02/09/2022|PRODUÇÃO E E DIÇÃ...|          5000.0|\n",
      "|20/10/2024|  01:00:55|       2022|              2|      Ordinária|       546|Eleições Gerais E...|02/10/2022|       1|              Final|         16/12/2022|         3794801405|   AC|      Nota Fiscal|         850002|               2|Fundo Especial de...|         20220000|Produção de progr...|                  1|         Financeiro|                 0|              Cheque|  51361264|               37652544|      16/09/2022|EDIÇÃO DE FOTOS· ...|         18000.0|\n",
      "|20/10/2024|  01:00:55|       2022|              2|      Ordinária|       546|Eleições Gerais E...|02/10/2022|       1|              Final|         20/06/2023|         3727953087|   AC|      Nota Fiscal|         091401|               2|Fundo Especial de...|         20220000|Produção de progr...|                  1|         Financeiro|                19|                 PIX|  51851112|               38216824|      14/09/2022|PRODUÇÃO DE IMAGE...|          3000.0|\n",
      "|20/10/2024|  01:00:55|       2022|              2|      Ordinária|       546|Eleições Gerais E...|02/10/2022|       1|              Final|         08/08/2023|         3758119814|   AC|      Nota Fiscal|          90616|               2|Fundo Especial de...|         20220000|Produção de progr...|                  1|         Financeiro|                 1|Transferência ele...|  51981458|               38364074|      06/09/2022|MARKETING E PRODU...|        600000.0|\n",
      "|20/10/2024|  01:00:55|       2022|              2|      Ordinária|       546|Eleições Gerais E...|02/10/2022|       1|              Final|         08/08/2023|         3758119814|   AC|      Nota Fiscal|         850021|               2|Fundo Especial de...|         20220000|Produção de progr...|                  1|         Financeiro|                 0|              Cheque|  51981458|               38364073|      02/09/2022|MARKETING E PRODU...|        600000.0|\n",
      "|20/10/2024|  01:00:55|       2022|              2|      Ordinária|       546|Eleições Gerais E...|02/10/2022|       1|              Final|         23/05/2023|         3793673279|   AC|      Nota Fiscal|          82901|               2|Fundo Especial de...|         20220000|Produção de progr...|                  1|         Financeiro|                 1|Transferência ele...|  51789273|               38146210|      29/08/2022|CRIAÇÃO DE IDENTI...|        100000.0|\n",
      "|20/10/2024|  01:00:55|       2022|              2|      Ordinária|       546|Eleições Gerais E...|02/10/2022|       1|              Final|         21/11/2022|         3780998777|   AC|      Nota Fiscal|          90601|               2|Fundo Especial de...|         20220000|Produção de progr...|                  1|         Financeiro|                 1|Transferência ele...|  50892282|               37060472|      06/09/2022|SERV DE MIDIA· EM...|       485862.03|\n",
      "+----------+----------+-----------+---------------+---------------+----------+--------------------+----------+--------+-------------------+-------------------+-------------------+-----+-----------------+---------------+----------------+--------------------+-----------------+--------------------+-------------------+-------------------+------------------+--------------------+----------+-----------------------+----------------+--------------------+----------------+\n",
      "only showing top 20 rows\n",
      "\n"
     ]
    }
   ],
   "execution_count": 21
  },
  {
   "metadata": {
    "ExecuteTime": {
     "end_time": "2024-11-06T04:13:21.294854Z",
     "start_time": "2024-11-06T04:13:15.009785Z"
    }
   },
   "cell_type": "code",
   "source": [
    "from pyspark.sql.functions import desc\n",
    "\n",
    "despesas_df = spark.sql(\"\"\"\n",
    "WITH despesas AS\n",
    "   ( SELECT \n",
    "            SQ_CANDIDATO,\n",
    "            VR_DESPESA_CONTRATADA AS VR_DESPESA\n",
    "        FROM \n",
    "            despesas_contratadas\n",
    "        WHERE \n",
    "            ST_TURNO = 1\n",
    "        \n",
    "        UNION ALL\n",
    "        \n",
    "        SELECT \n",
    "            SQ_PRESTADOR_CONTAS AS SQ_CANDIDATO,\n",
    "            VR_PAGTO_DESPESA AS VR_DESPESA\n",
    "        FROM \n",
    "            despesas_pagas\n",
    "        WHERE \n",
    "            ST_TURNO = 1) \n",
    "            \n",
    "                \n",
    "            SELECT SQ_CANDIDATO, SUM(VR_DESPESA) AS total_despesas FROM despesas GROUP BY SQ_CANDIDATO\n",
    "\n",
    "\n",
    "\"\"\")\n",
    "\n",
    "despesas_df.createOrReplaceTempView(\"despesas\")\n",
    "\n",
    "despesas_df.sort(desc(\"total_despesas\")).show()"
   ],
   "id": "b7d2ff4a1d9ce53a",
   "outputs": [
    {
     "name": "stderr",
     "output_type": "stream",
     "text": [
      "[Stage 42:==================================================>       (7 + 1) / 8]\r"
     ]
    },
    {
     "name": "stdout",
     "output_type": "stream",
     "text": [
      "+------------+--------------------+\n",
      "|SQ_CANDIDATO|      total_despesas|\n",
      "+------------+--------------------+\n",
      "|280001644128| 7.877176538847494E7|\n",
      "|280001607833| 7.678105487223148E7|\n",
      "|  3774520211| 7.675991926850909E7|\n",
      "|280001612393|  7.20272815177126E7|\n",
      "|  3781393930| 7.202728145255184E7|\n",
      "|  3795118113| 6.724999443437338E7|\n",
      "|250001612450| 5.913213899734497E7|\n",
      "|  3781018740| 5.913213893191528E7|\n",
      "|190001615753| 3.864503368748617E7|\n",
      "|130001701690| 3.537215859633756E7|\n",
      "|  3804143955| 3.443215859110165E7|\n",
      "|130001621812|3.2163734034204483E7|\n",
      "|  3790205754|3.2163734025675774E7|\n",
      "|  3785028275| 2.959999992186117E7|\n",
      "|160001614467|2.8085199472186107E7|\n",
      "|190001614665|2.7313774860948086E7|\n",
      "|100001599612|2.5053083560040474E7|\n",
      "|  3783875552| 2.500242400377035E7|\n",
      "|  3786144167| 2.451867096593094E7|\n",
      "|170001618087|2.4518670963021755E7|\n",
      "+------------+--------------------+\n",
      "only showing top 20 rows\n",
      "\n"
     ]
    },
    {
     "name": "stderr",
     "output_type": "stream",
     "text": [
      "                                                                                \r"
     ]
    }
   ],
   "execution_count": 22
  },
  {
   "metadata": {},
   "cell_type": "markdown",
   "source": "### Joining the tables",
   "id": "54391c6033b5014f"
  },
  {
   "metadata": {
    "ExecuteTime": {
     "end_time": "2024-11-06T04:13:28.281691Z",
     "start_time": "2024-11-06T04:13:21.323172Z"
    }
   },
   "cell_type": "code",
   "source": [
    "# SQL query to join votos and candidatos tables and display the required information\n",
    "join_df = spark.sql(\"\"\"\n",
    "    SELECT DISTINCT \n",
    "        v.NM_VOTAVEL,\n",
    "        v.NR_VOTAVEL,\n",
    "        c.DS_GENERO,\n",
    "        c.DS_COR_RACA,\n",
    "        c.DS_GRAU_INSTRUCAO,\n",
    "        c.DT_NASCIMENTO,\n",
    "        v.TOTAL_VOTES,\n",
    "        d.total_despesas\n",
    "    FROM \n",
    "        votos v\n",
    "    INNER JOIN \n",
    "        candidatos c\n",
    "    ON \n",
    "        v.NR_VOTAVEL = c.NR_CANDIDATO\n",
    "        AND lower(v.DS_CARGO_PERGUNTA) = lower(c.DS_CARGO)\n",
    "        AND v.NM_VOTAVEL = c.NM_URNA_CANDIDATO\n",
    "    LEFT JOIN \n",
    "        despesas d\n",
    "    ON\n",
    "        c.SQ_CANDIDATO = d.SQ_CANDIDATO\n",
    "\"\"\")\n",
    "\n",
    "\n",
    "join_df = join_df.withColumn(\"total_despesas\", format_number(col(\"total_despesas\"), 2))\n",
    "\n",
    "\n",
    "# Show the result\n",
    "join_df.sort(col(\"TOTAL_VOTES\").desc()).show()"
   ],
   "id": "d46151b1c751a13f",
   "outputs": [
    {
     "name": "stderr",
     "output_type": "stream",
     "text": [
      "                                                                                \r"
     ]
    },
    {
     "name": "stdout",
     "output_type": "stream",
     "text": [
      "+--------------------+----------+---------+-----------+--------------------+-------------+-----------+--------------+\n",
      "|          NM_VOTAVEL|NR_VOTAVEL|DS_GENERO|DS_COR_RACA|   DS_GRAU_INSTRUCAO|DT_NASCIMENTO|TOTAL_VOTES|total_despesas|\n",
      "+--------------------+----------+---------+-----------+--------------------+-------------+-----------+--------------+\n",
      "|                LULA|        13|MASCULINO|     BRANCA|ENSINO FUNDAMENTA...|   06/10/1945|   57259504|          NULL|\n",
      "|      JAIR BOLSONARO|        22|MASCULINO|     BRANCA|   SUPERIOR COMPLETO|   21/03/1955|   51072345|          NULL|\n",
      "|ASTRONAUTA MARCOS...|       222|MASCULINO|     BRANCA|   SUPERIOR COMPLETO|   11/03/1963|   10714913|  9,100,098.63|\n",
      "|            TARCÍSIO|        10|MASCULINO|     BRANCA|   SUPERIOR COMPLETO|   19/06/1975|    9881995|          NULL|\n",
      "|     FERNANDO HADDAD|        13|MASCULINO|     BRANCA|   SUPERIOR COMPLETO|   25/01/1963|    8337139|          NULL|\n",
      "|       MÁRCIO FRANÇA|       400|MASCULINO|     BRANCA|   SUPERIOR COMPLETO|   23/06/1963|    7822518| 13,071,973.22|\n",
      "|                ZEMA|        30|MASCULINO|     BRANCA|   SUPERIOR COMPLETO|   28/10/1964|    6094136| 35,372,158.60|\n",
      "|      CLÁUDIO CASTRO|        22|MASCULINO|     BRANCA|   SUPERIOR COMPLETO|   29/03/1979|    4930288| 38,645,033.69|\n",
      "|        SIMONE TEBET|        15| FEMININO|     BRANCA|   SUPERIOR COMPLETO|   22/02/1970|    4915423| 76,781,054.87|\n",
      "|      RODRIGO GARCIA|        45|MASCULINO|     BRANCA|   SUPERIOR COMPLETO|   10/05/1974|    4296293| 59,132,139.00|\n",
      "|           CLEITINHO|       200|MASCULINO|     BRANCA|ENSINO MÉDIO COMP...|   15/04/1982|    4268193|  1,135,560.40|\n",
      "|CARLOS MASSA RATI...|        55|MASCULINO|     BRANCA|   SUPERIOR COMPLETO|   19/04/1981|    4243292| 28,085,199.47|\n",
      "|        OTTO ALENCAR|       555|MASCULINO|     BRANCA|   SUPERIOR COMPLETO|   28/08/1947|    4218333|  7,905,393.16|\n",
      "|            JERÔNIMO|        13|MASCULINO|   INDÍGENA|   SUPERIOR COMPLETO|   03/04/1965|    4019830|          NULL|\n",
      "|               KALIL|        55|MASCULINO|     BRANCA| SUPERIOR INCOMPLETO|   25/03/1959|    3805182| 32,163,734.03|\n",
      "|  ALEXANDRE SILVEIRA|       555|MASCULINO|     BRANCA|   SUPERIOR COMPLETO|   15/07/1970|    3679392|  7,626,914.46|\n",
      "|          CIRO GOMES|        12|MASCULINO|     BRANCA|   SUPERIOR COMPLETO|   06/11/1957|    3599287| 72,027,281.52|\n",
      "|              CAMILO|       131|MASCULINO|     BRANCA|   SUPERIOR COMPLETO|   03/06/1968|    3389513|  8,742,952.83|\n",
      "|            ACM NETO|        44|MASCULINO|      PARDA|   SUPERIOR COMPLETO|   26/01/1979|    3316711|          NULL|\n",
      "|              HELDER|        15|MASCULINO|     BRANCA|   SUPERIOR COMPLETO|   18/05/1979|    3117276| 19,795,785.89|\n",
      "+--------------------+----------+---------+-----------+--------------------+-------------+-----------+--------------+\n",
      "only showing top 20 rows\n",
      "\n"
     ]
    }
   ],
   "execution_count": 23
  },
  {
   "metadata": {
    "ExecuteTime": {
     "end_time": "2024-11-06T04:13:34.710806Z",
     "start_time": "2024-11-06T04:13:28.310629Z"
    }
   },
   "cell_type": "code",
   "source": [
    "from pyspark.sql.functions import to_date, current_date, datediff, col\n",
    "\n",
    "join_df = join_df.withColumn(\"DT_NASCIMENTO\", to_date(col(\"DT_NASCIMENTO\"), \"dd/MM/yyyy\"))\n",
    "\n",
    "join_df = join_df.withColumn(\"nr_idade\", (datediff(current_date(), col(\"DT_NASCIMENTO\")) / 365).cast(\"int\"))\n",
    "\n",
    "join_df.sort(col(\"TOTAL_VOTES\").desc()).show()"
   ],
   "id": "44fb30a9316383d2",
   "outputs": [
    {
     "name": "stderr",
     "output_type": "stream",
     "text": [
      "                                                                                \r"
     ]
    },
    {
     "name": "stdout",
     "output_type": "stream",
     "text": [
      "+--------------------+----------+---------+-----------+--------------------+-------------+-----------+--------------+--------+\n",
      "|          NM_VOTAVEL|NR_VOTAVEL|DS_GENERO|DS_COR_RACA|   DS_GRAU_INSTRUCAO|DT_NASCIMENTO|TOTAL_VOTES|total_despesas|nr_idade|\n",
      "+--------------------+----------+---------+-----------+--------------------+-------------+-----------+--------------+--------+\n",
      "|                LULA|        13|MASCULINO|     BRANCA|ENSINO FUNDAMENTA...|   1945-10-06|   57259504|          NULL|      79|\n",
      "|      JAIR BOLSONARO|        22|MASCULINO|     BRANCA|   SUPERIOR COMPLETO|   1955-03-21|   51072345|          NULL|      69|\n",
      "|ASTRONAUTA MARCOS...|       222|MASCULINO|     BRANCA|   SUPERIOR COMPLETO|   1963-03-11|   10714913|  9,100,098.63|      61|\n",
      "|            TARCÍSIO|        10|MASCULINO|     BRANCA|   SUPERIOR COMPLETO|   1975-06-19|    9881995|          NULL|      49|\n",
      "|     FERNANDO HADDAD|        13|MASCULINO|     BRANCA|   SUPERIOR COMPLETO|   1963-01-25|    8337139|          NULL|      61|\n",
      "|       MÁRCIO FRANÇA|       400|MASCULINO|     BRANCA|   SUPERIOR COMPLETO|   1963-06-23|    7822518| 13,071,973.22|      61|\n",
      "|                ZEMA|        30|MASCULINO|     BRANCA|   SUPERIOR COMPLETO|   1964-10-28|    6094136| 35,372,158.60|      60|\n",
      "|      CLÁUDIO CASTRO|        22|MASCULINO|     BRANCA|   SUPERIOR COMPLETO|   1979-03-29|    4930288| 38,645,033.69|      45|\n",
      "|        SIMONE TEBET|        15| FEMININO|     BRANCA|   SUPERIOR COMPLETO|   1970-02-22|    4915423| 76,781,054.87|      54|\n",
      "|      RODRIGO GARCIA|        45|MASCULINO|     BRANCA|   SUPERIOR COMPLETO|   1974-05-10|    4296293| 59,132,139.00|      50|\n",
      "|           CLEITINHO|       200|MASCULINO|     BRANCA|ENSINO MÉDIO COMP...|   1982-04-15|    4268193|  1,135,560.40|      42|\n",
      "|CARLOS MASSA RATI...|        55|MASCULINO|     BRANCA|   SUPERIOR COMPLETO|   1981-04-19|    4243292| 28,085,199.47|      43|\n",
      "|        OTTO ALENCAR|       555|MASCULINO|     BRANCA|   SUPERIOR COMPLETO|   1947-08-28|    4218333|  7,905,393.16|      77|\n",
      "|            JERÔNIMO|        13|MASCULINO|   INDÍGENA|   SUPERIOR COMPLETO|   1965-04-03|    4019830|          NULL|      59|\n",
      "|               KALIL|        55|MASCULINO|     BRANCA| SUPERIOR INCOMPLETO|   1959-03-25|    3805182| 32,163,734.03|      65|\n",
      "|  ALEXANDRE SILVEIRA|       555|MASCULINO|     BRANCA|   SUPERIOR COMPLETO|   1970-07-15|    3679392|  7,626,914.46|      54|\n",
      "|          CIRO GOMES|        12|MASCULINO|     BRANCA|   SUPERIOR COMPLETO|   1957-11-06|    3599287| 72,027,281.52|      67|\n",
      "|              CAMILO|       131|MASCULINO|     BRANCA|   SUPERIOR COMPLETO|   1968-06-03|    3389513|  8,742,952.83|      56|\n",
      "|            ACM NETO|        44|MASCULINO|      PARDA|   SUPERIOR COMPLETO|   1979-01-26|    3316711|          NULL|      45|\n",
      "|              HELDER|        15|MASCULINO|     BRANCA|   SUPERIOR COMPLETO|   1979-05-18|    3117276| 19,795,785.89|      45|\n",
      "+--------------------+----------+---------+-----------+--------------------+-------------+-----------+--------------+--------+\n",
      "only showing top 20 rows\n",
      "\n"
     ]
    }
   ],
   "execution_count": 24
  },
  {
   "metadata": {
    "ExecuteTime": {
     "end_time": "2024-11-06T04:13:41.278572Z",
     "start_time": "2024-11-06T04:13:34.748516Z"
    }
   },
   "cell_type": "code",
   "source": [
    "output_parquet_dir = \"output/join_table\"\n",
    "\n",
    "join_df.write.mode('overwrite').parquet(output_parquet_dir)"
   ],
   "id": "1409057fb8bcaa49",
   "outputs": [
    {
     "name": "stderr",
     "output_type": "stream",
     "text": [
      "                                                                                \r"
     ]
    }
   ],
   "execution_count": 25
  },
  {
   "metadata": {
    "ExecuteTime": {
     "end_time": "2024-11-06T04:13:41.300103Z",
     "start_time": "2024-11-06T04:13:41.298244Z"
    }
   },
   "cell_type": "code",
   "source": "",
   "id": "b39f1399da53439d",
   "outputs": [],
   "execution_count": null
  }
 ],
 "metadata": {
  "kernelspec": {
   "display_name": "Python 3",
   "language": "python",
   "name": "python3"
  },
  "language_info": {
   "codemirror_mode": {
    "name": "ipython",
    "version": 2
   },
   "file_extension": ".py",
   "mimetype": "text/x-python",
   "name": "python",
   "nbconvert_exporter": "python",
   "pygments_lexer": "ipython2",
   "version": "2.7.6"
  }
 },
 "nbformat": 4,
 "nbformat_minor": 5
}
